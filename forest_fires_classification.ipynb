{
 "cells": [
  {
   "cell_type": "markdown",
   "id": "b47b16a6",
   "metadata": {},
   "source": [
    "# Forest Fires Classification"
   ]
  },
  {
   "cell_type": "code",
   "execution_count": 1,
   "id": "8b7ac9ad",
   "metadata": {},
   "outputs": [],
   "source": [
    "import pandas as pd\n",
    "import numpy as np\n",
    "import seaborn as sns\n",
    "import matplotlib.pyplot as plt\n",
    "import plotly.express as px\n",
    "import pickle\n",
    "from sklearn.preprocessing import StandardScaler\n",
    "from sklearn.naive_bayes import GaussianNB\n",
    "from sklearn.tree import DecisionTreeClassifier\n",
    "from sklearn.ensemble import RandomForestClassifier\n",
    "from sklearn.neighbors import KNeighborsClassifier\n",
    "from sklearn.linear_model import LogisticRegression\n",
    "from sklearn.svm import SVC\n",
    "from sklearn.neural_network import MLPClassifier\n",
    "from sklearn.model_selection import GridSearchCV\n",
    "from sklearn.model_selection import cross_val_score, KFold\n",
    "from scipy.stats import shapiro, f_oneway\n",
    "from statsmodels.stats.multicomp import MultiComparison"
   ]
  },
  {
   "cell_type": "markdown",
   "id": "33105285",
   "metadata": {},
   "source": [
    "## 1. Exploratory Data Analysis"
   ]
  },
  {
   "cell_type": "markdown",
   "id": "e342bf4e",
   "metadata": {},
   "source": [
    "We begin by loading our data set into a data frame using pandas."
   ]
  },
  {
   "cell_type": "code",
   "execution_count": 3,
   "id": "8f3ac2d8",
   "metadata": {},
   "outputs": [
    {
     "data": {
      "text/html": [
       "<div>\n",
       "<style scoped>\n",
       "    .dataframe tbody tr th:only-of-type {\n",
       "        vertical-align: middle;\n",
       "    }\n",
       "\n",
       "    .dataframe tbody tr th {\n",
       "        vertical-align: top;\n",
       "    }\n",
       "\n",
       "    .dataframe thead th {\n",
       "        text-align: right;\n",
       "    }\n",
       "</style>\n",
       "<table border=\"1\" class=\"dataframe\">\n",
       "  <thead>\n",
       "    <tr style=\"text-align: right;\">\n",
       "      <th></th>\n",
       "      <th>day</th>\n",
       "      <th>month</th>\n",
       "      <th>year</th>\n",
       "      <th>Temperature</th>\n",
       "      <th>RH</th>\n",
       "      <th>Ws</th>\n",
       "      <th>Rain</th>\n",
       "      <th>FFMC</th>\n",
       "      <th>DMC</th>\n",
       "      <th>DC</th>\n",
       "      <th>ISI</th>\n",
       "      <th>BUI</th>\n",
       "      <th>FWI</th>\n",
       "      <th>Classes</th>\n",
       "    </tr>\n",
       "  </thead>\n",
       "  <tbody>\n",
       "    <tr>\n",
       "      <th>0</th>\n",
       "      <td>1</td>\n",
       "      <td>6</td>\n",
       "      <td>2012</td>\n",
       "      <td>29</td>\n",
       "      <td>57</td>\n",
       "      <td>18</td>\n",
       "      <td>0.0</td>\n",
       "      <td>65.7</td>\n",
       "      <td>3.4</td>\n",
       "      <td>7.6</td>\n",
       "      <td>1.3</td>\n",
       "      <td>3.4</td>\n",
       "      <td>0.5</td>\n",
       "      <td>not fire</td>\n",
       "    </tr>\n",
       "    <tr>\n",
       "      <th>1</th>\n",
       "      <td>2</td>\n",
       "      <td>6</td>\n",
       "      <td>2012</td>\n",
       "      <td>29</td>\n",
       "      <td>61</td>\n",
       "      <td>13</td>\n",
       "      <td>1.3</td>\n",
       "      <td>64.4</td>\n",
       "      <td>4.1</td>\n",
       "      <td>7.6</td>\n",
       "      <td>1.0</td>\n",
       "      <td>3.9</td>\n",
       "      <td>0.4</td>\n",
       "      <td>not fire</td>\n",
       "    </tr>\n",
       "    <tr>\n",
       "      <th>2</th>\n",
       "      <td>3</td>\n",
       "      <td>6</td>\n",
       "      <td>2012</td>\n",
       "      <td>26</td>\n",
       "      <td>82</td>\n",
       "      <td>22</td>\n",
       "      <td>13.1</td>\n",
       "      <td>47.1</td>\n",
       "      <td>2.5</td>\n",
       "      <td>7.1</td>\n",
       "      <td>0.3</td>\n",
       "      <td>2.7</td>\n",
       "      <td>0.1</td>\n",
       "      <td>not fire</td>\n",
       "    </tr>\n",
       "    <tr>\n",
       "      <th>3</th>\n",
       "      <td>4</td>\n",
       "      <td>6</td>\n",
       "      <td>2012</td>\n",
       "      <td>25</td>\n",
       "      <td>89</td>\n",
       "      <td>13</td>\n",
       "      <td>2.5</td>\n",
       "      <td>28.6</td>\n",
       "      <td>1.3</td>\n",
       "      <td>6.9</td>\n",
       "      <td>0.0</td>\n",
       "      <td>1.7</td>\n",
       "      <td>0.0</td>\n",
       "      <td>not fire</td>\n",
       "    </tr>\n",
       "    <tr>\n",
       "      <th>4</th>\n",
       "      <td>5</td>\n",
       "      <td>6</td>\n",
       "      <td>2012</td>\n",
       "      <td>27</td>\n",
       "      <td>77</td>\n",
       "      <td>16</td>\n",
       "      <td>0.0</td>\n",
       "      <td>64.8</td>\n",
       "      <td>3.0</td>\n",
       "      <td>14.2</td>\n",
       "      <td>1.2</td>\n",
       "      <td>3.9</td>\n",
       "      <td>0.5</td>\n",
       "      <td>not fire</td>\n",
       "    </tr>\n",
       "    <tr>\n",
       "      <th>...</th>\n",
       "      <td>...</td>\n",
       "      <td>...</td>\n",
       "      <td>...</td>\n",
       "      <td>...</td>\n",
       "      <td>...</td>\n",
       "      <td>...</td>\n",
       "      <td>...</td>\n",
       "      <td>...</td>\n",
       "      <td>...</td>\n",
       "      <td>...</td>\n",
       "      <td>...</td>\n",
       "      <td>...</td>\n",
       "      <td>...</td>\n",
       "      <td>...</td>\n",
       "    </tr>\n",
       "    <tr>\n",
       "      <th>117</th>\n",
       "      <td>26</td>\n",
       "      <td>9</td>\n",
       "      <td>2012</td>\n",
       "      <td>31</td>\n",
       "      <td>54</td>\n",
       "      <td>11</td>\n",
       "      <td>0.0</td>\n",
       "      <td>82.0</td>\n",
       "      <td>6.0</td>\n",
       "      <td>16.3</td>\n",
       "      <td>2.5</td>\n",
       "      <td>6.2</td>\n",
       "      <td>1.7</td>\n",
       "      <td>not fire</td>\n",
       "    </tr>\n",
       "    <tr>\n",
       "      <th>118</th>\n",
       "      <td>27</td>\n",
       "      <td>9</td>\n",
       "      <td>2012</td>\n",
       "      <td>31</td>\n",
       "      <td>66</td>\n",
       "      <td>11</td>\n",
       "      <td>0.0</td>\n",
       "      <td>85.7</td>\n",
       "      <td>8.3</td>\n",
       "      <td>24.9</td>\n",
       "      <td>4.0</td>\n",
       "      <td>9.0</td>\n",
       "      <td>4.1</td>\n",
       "      <td>fire</td>\n",
       "    </tr>\n",
       "    <tr>\n",
       "      <th>119</th>\n",
       "      <td>28</td>\n",
       "      <td>9</td>\n",
       "      <td>2012</td>\n",
       "      <td>32</td>\n",
       "      <td>47</td>\n",
       "      <td>14</td>\n",
       "      <td>0.7</td>\n",
       "      <td>77.5</td>\n",
       "      <td>7.1</td>\n",
       "      <td>8.8</td>\n",
       "      <td>1.8</td>\n",
       "      <td>6.8</td>\n",
       "      <td>0.9</td>\n",
       "      <td>not fire</td>\n",
       "    </tr>\n",
       "    <tr>\n",
       "      <th>120</th>\n",
       "      <td>29</td>\n",
       "      <td>9</td>\n",
       "      <td>2012</td>\n",
       "      <td>26</td>\n",
       "      <td>80</td>\n",
       "      <td>16</td>\n",
       "      <td>1.8</td>\n",
       "      <td>47.4</td>\n",
       "      <td>2.9</td>\n",
       "      <td>7.7</td>\n",
       "      <td>0.3</td>\n",
       "      <td>3.0</td>\n",
       "      <td>0.1</td>\n",
       "      <td>not fire</td>\n",
       "    </tr>\n",
       "    <tr>\n",
       "      <th>121</th>\n",
       "      <td>30</td>\n",
       "      <td>9</td>\n",
       "      <td>2012</td>\n",
       "      <td>25</td>\n",
       "      <td>78</td>\n",
       "      <td>14</td>\n",
       "      <td>1.4</td>\n",
       "      <td>45.0</td>\n",
       "      <td>1.9</td>\n",
       "      <td>7.5</td>\n",
       "      <td>0.2</td>\n",
       "      <td>2.4</td>\n",
       "      <td>0.1</td>\n",
       "      <td>not fire</td>\n",
       "    </tr>\n",
       "  </tbody>\n",
       "</table>\n",
       "<p>122 rows × 14 columns</p>\n",
       "</div>"
      ],
      "text/plain": [
       "     day  month  year  Temperature   RH   Ws  Rain   FFMC  DMC    DC  ISI  \\\n",
       "0      1      6  2012           29   57   18    0.0  65.7  3.4   7.6  1.3   \n",
       "1      2      6  2012           29   61   13    1.3  64.4  4.1   7.6  1.0   \n",
       "2      3      6  2012           26   82   22   13.1  47.1  2.5   7.1  0.3   \n",
       "3      4      6  2012           25   89   13    2.5  28.6  1.3   6.9  0.0   \n",
       "4      5      6  2012           27   77   16    0.0  64.8  3.0  14.2  1.2   \n",
       "..   ...    ...   ...          ...  ...  ...    ...   ...  ...   ...  ...   \n",
       "117   26      9  2012           31   54   11    0.0  82.0  6.0  16.3  2.5   \n",
       "118   27      9  2012           31   66   11    0.0  85.7  8.3  24.9  4.0   \n",
       "119   28      9  2012           32   47   14    0.7  77.5  7.1   8.8  1.8   \n",
       "120   29      9  2012           26   80   16    1.8  47.4  2.9   7.7  0.3   \n",
       "121   30      9  2012           25   78   14    1.4  45.0  1.9   7.5  0.2   \n",
       "\n",
       "     BUI  FWI    Classes    \n",
       "0    3.4  0.5  not fire     \n",
       "1    3.9  0.4  not fire     \n",
       "2    2.7  0.1  not fire     \n",
       "3    1.7  0.0  not fire     \n",
       "4    3.9  0.5  not fire     \n",
       "..   ...  ...          ...  \n",
       "117  6.2  1.7  not fire     \n",
       "118  9.0  4.1      fire     \n",
       "119  6.8  0.9  not fire     \n",
       "120  3.0  0.1  not fire     \n",
       "121  2.4  0.1  not fire     \n",
       "\n",
       "[122 rows x 14 columns]"
      ]
     },
     "execution_count": 3,
     "metadata": {},
     "output_type": "execute_result"
    }
   ],
   "source": [
    "df = pd.read_csv('forest_fires_bejaia.csv')\n",
    "df"
   ]
  },
  {
   "cell_type": "markdown",
   "id": "6c3a1f40",
   "metadata": {},
   "source": [
    "Before we proceed, we can see using the \"columns\" command that there are some extra spaces on the heading of the last column. We will need to correct this before we begin our analysis"
   ]
  },
  {
   "cell_type": "code",
   "execution_count": 15,
   "id": "a1f9a318",
   "metadata": {},
   "outputs": [
    {
     "data": {
      "text/plain": [
       "Index(['day', 'month', 'year', 'Temperature', ' RH', ' Ws', 'Rain ', 'FFMC',\n",
       "       'DMC', 'DC', 'ISI', 'BUI', 'FWI', 'Classes  '],\n",
       "      dtype='object')"
      ]
     },
     "execution_count": 15,
     "metadata": {},
     "output_type": "execute_result"
    }
   ],
   "source": [
    "df.columns"
   ]
  },
  {
   "cell_type": "code",
   "execution_count": 16,
   "id": "804a30fe",
   "metadata": {},
   "outputs": [
    {
     "data": {
      "text/plain": [
       "Index(['day', 'month', 'year', 'Temperature', 'RH', 'Ws', 'Rain', 'FFMC',\n",
       "       'DMC', 'DC', 'ISI', 'BUI', 'FWI', 'Classes'],\n",
       "      dtype='object')"
      ]
     },
     "execution_count": 16,
     "metadata": {},
     "output_type": "execute_result"
    }
   ],
   "source": [
    "df.columns = df.columns.str.strip()\n",
    "df.columns"
   ]
  },
  {
   "cell_type": "markdown",
   "id": "4ecde397",
   "metadata": {},
   "source": [
    "For an initial analysis we use the \"describe\" command."
   ]
  },
  {
   "cell_type": "code",
   "execution_count": 17,
   "id": "f8155b68",
   "metadata": {
    "scrolled": true
   },
   "outputs": [
    {
     "data": {
      "text/html": [
       "<div>\n",
       "<style scoped>\n",
       "    .dataframe tbody tr th:only-of-type {\n",
       "        vertical-align: middle;\n",
       "    }\n",
       "\n",
       "    .dataframe tbody tr th {\n",
       "        vertical-align: top;\n",
       "    }\n",
       "\n",
       "    .dataframe thead th {\n",
       "        text-align: right;\n",
       "    }\n",
       "</style>\n",
       "<table border=\"1\" class=\"dataframe\">\n",
       "  <thead>\n",
       "    <tr style=\"text-align: right;\">\n",
       "      <th></th>\n",
       "      <th>day</th>\n",
       "      <th>month</th>\n",
       "      <th>year</th>\n",
       "      <th>Temperature</th>\n",
       "      <th>RH</th>\n",
       "      <th>Ws</th>\n",
       "      <th>Rain</th>\n",
       "      <th>FFMC</th>\n",
       "      <th>DMC</th>\n",
       "      <th>DC</th>\n",
       "      <th>ISI</th>\n",
       "      <th>BUI</th>\n",
       "      <th>FWI</th>\n",
       "    </tr>\n",
       "  </thead>\n",
       "  <tbody>\n",
       "    <tr>\n",
       "      <th>count</th>\n",
       "      <td>122.000000</td>\n",
       "      <td>122.000000</td>\n",
       "      <td>122.0</td>\n",
       "      <td>122.000000</td>\n",
       "      <td>122.000000</td>\n",
       "      <td>122.000000</td>\n",
       "      <td>122.000000</td>\n",
       "      <td>122.000000</td>\n",
       "      <td>122.000000</td>\n",
       "      <td>122.000000</td>\n",
       "      <td>122.000000</td>\n",
       "      <td>122.000000</td>\n",
       "      <td>122.000000</td>\n",
       "    </tr>\n",
       "    <tr>\n",
       "      <th>mean</th>\n",
       "      <td>15.754098</td>\n",
       "      <td>7.500000</td>\n",
       "      <td>2012.0</td>\n",
       "      <td>31.180328</td>\n",
       "      <td>67.975410</td>\n",
       "      <td>16.000000</td>\n",
       "      <td>0.842623</td>\n",
       "      <td>74.672951</td>\n",
       "      <td>12.314754</td>\n",
       "      <td>53.160656</td>\n",
       "      <td>3.655738</td>\n",
       "      <td>15.426230</td>\n",
       "      <td>5.577869</td>\n",
       "    </tr>\n",
       "    <tr>\n",
       "      <th>std</th>\n",
       "      <td>8.843274</td>\n",
       "      <td>1.115259</td>\n",
       "      <td>0.0</td>\n",
       "      <td>3.320401</td>\n",
       "      <td>11.154411</td>\n",
       "      <td>2.848807</td>\n",
       "      <td>2.409208</td>\n",
       "      <td>15.558713</td>\n",
       "      <td>11.274360</td>\n",
       "      <td>51.778265</td>\n",
       "      <td>3.021768</td>\n",
       "      <td>14.474302</td>\n",
       "      <td>6.343051</td>\n",
       "    </tr>\n",
       "    <tr>\n",
       "      <th>min</th>\n",
       "      <td>1.000000</td>\n",
       "      <td>6.000000</td>\n",
       "      <td>2012.0</td>\n",
       "      <td>22.000000</td>\n",
       "      <td>45.000000</td>\n",
       "      <td>11.000000</td>\n",
       "      <td>0.000000</td>\n",
       "      <td>28.600000</td>\n",
       "      <td>0.700000</td>\n",
       "      <td>6.900000</td>\n",
       "      <td>0.000000</td>\n",
       "      <td>1.100000</td>\n",
       "      <td>0.000000</td>\n",
       "    </tr>\n",
       "    <tr>\n",
       "      <th>25%</th>\n",
       "      <td>8.000000</td>\n",
       "      <td>7.000000</td>\n",
       "      <td>2012.0</td>\n",
       "      <td>29.000000</td>\n",
       "      <td>60.000000</td>\n",
       "      <td>14.000000</td>\n",
       "      <td>0.000000</td>\n",
       "      <td>65.925000</td>\n",
       "      <td>3.725000</td>\n",
       "      <td>10.050000</td>\n",
       "      <td>1.125000</td>\n",
       "      <td>5.100000</td>\n",
       "      <td>0.500000</td>\n",
       "    </tr>\n",
       "    <tr>\n",
       "      <th>50%</th>\n",
       "      <td>16.000000</td>\n",
       "      <td>7.500000</td>\n",
       "      <td>2012.0</td>\n",
       "      <td>31.000000</td>\n",
       "      <td>68.000000</td>\n",
       "      <td>16.000000</td>\n",
       "      <td>0.000000</td>\n",
       "      <td>80.900000</td>\n",
       "      <td>9.450000</td>\n",
       "      <td>35.550000</td>\n",
       "      <td>2.650000</td>\n",
       "      <td>11.200000</td>\n",
       "      <td>3.000000</td>\n",
       "    </tr>\n",
       "    <tr>\n",
       "      <th>75%</th>\n",
       "      <td>23.000000</td>\n",
       "      <td>8.000000</td>\n",
       "      <td>2012.0</td>\n",
       "      <td>34.000000</td>\n",
       "      <td>77.750000</td>\n",
       "      <td>18.000000</td>\n",
       "      <td>0.500000</td>\n",
       "      <td>86.775000</td>\n",
       "      <td>16.300000</td>\n",
       "      <td>79.025000</td>\n",
       "      <td>5.600000</td>\n",
       "      <td>21.675000</td>\n",
       "      <td>8.700000</td>\n",
       "    </tr>\n",
       "    <tr>\n",
       "      <th>max</th>\n",
       "      <td>31.000000</td>\n",
       "      <td>9.000000</td>\n",
       "      <td>2012.0</td>\n",
       "      <td>37.000000</td>\n",
       "      <td>89.000000</td>\n",
       "      <td>26.000000</td>\n",
       "      <td>16.800000</td>\n",
       "      <td>90.300000</td>\n",
       "      <td>54.200000</td>\n",
       "      <td>220.400000</td>\n",
       "      <td>12.500000</td>\n",
       "      <td>67.400000</td>\n",
       "      <td>30.200000</td>\n",
       "    </tr>\n",
       "  </tbody>\n",
       "</table>\n",
       "</div>"
      ],
      "text/plain": [
       "              day       month    year  Temperature          RH          Ws  \\\n",
       "count  122.000000  122.000000   122.0   122.000000  122.000000  122.000000   \n",
       "mean    15.754098    7.500000  2012.0    31.180328   67.975410   16.000000   \n",
       "std      8.843274    1.115259     0.0     3.320401   11.154411    2.848807   \n",
       "min      1.000000    6.000000  2012.0    22.000000   45.000000   11.000000   \n",
       "25%      8.000000    7.000000  2012.0    29.000000   60.000000   14.000000   \n",
       "50%     16.000000    7.500000  2012.0    31.000000   68.000000   16.000000   \n",
       "75%     23.000000    8.000000  2012.0    34.000000   77.750000   18.000000   \n",
       "max     31.000000    9.000000  2012.0    37.000000   89.000000   26.000000   \n",
       "\n",
       "             Rain        FFMC         DMC          DC         ISI         BUI  \\\n",
       "count  122.000000  122.000000  122.000000  122.000000  122.000000  122.000000   \n",
       "mean     0.842623   74.672951   12.314754   53.160656    3.655738   15.426230   \n",
       "std      2.409208   15.558713   11.274360   51.778265    3.021768   14.474302   \n",
       "min      0.000000   28.600000    0.700000    6.900000    0.000000    1.100000   \n",
       "25%      0.000000   65.925000    3.725000   10.050000    1.125000    5.100000   \n",
       "50%      0.000000   80.900000    9.450000   35.550000    2.650000   11.200000   \n",
       "75%      0.500000   86.775000   16.300000   79.025000    5.600000   21.675000   \n",
       "max     16.800000   90.300000   54.200000  220.400000   12.500000   67.400000   \n",
       "\n",
       "              FWI  \n",
       "count  122.000000  \n",
       "mean     5.577869  \n",
       "std      6.343051  \n",
       "min      0.000000  \n",
       "25%      0.500000  \n",
       "50%      3.000000  \n",
       "75%      8.700000  \n",
       "max     30.200000  "
      ]
     },
     "execution_count": 17,
     "metadata": {},
     "output_type": "execute_result"
    }
   ],
   "source": [
    "df.describe()"
   ]
  },
  {
   "cell_type": "markdown",
   "id": "4b3465d4",
   "metadata": {},
   "source": [
    "We can see that there are no missing values or unexpected negative values"
   ]
  },
  {
   "cell_type": "markdown",
   "id": "39892382",
   "metadata": {},
   "source": [
    "Next we can count and plot on how many days there were fires and on how many there weren't."
   ]
  },
  {
   "cell_type": "code",
   "execution_count": 18,
   "id": "6a30dcbe",
   "metadata": {},
   "outputs": [
    {
     "data": {
      "text/plain": [
       "(array(['fire', 'fire ', 'fire   ', 'not fire', 'not fire ', 'not fire   '],\n",
       "       dtype=object),\n",
       " array([ 4,  2, 53,  2,  1, 60], dtype=int64))"
      ]
     },
     "execution_count": 18,
     "metadata": {},
     "output_type": "execute_result"
    }
   ],
   "source": [
    "np.unique(df['Classes'], return_counts=True)"
   ]
  },
  {
   "cell_type": "markdown",
   "id": "1baed6ef",
   "metadata": {},
   "source": [
    "The entries in this column are also suffering from leading and trailing spaces, we will have to correct this."
   ]
  },
  {
   "cell_type": "code",
   "execution_count": 20,
   "id": "c5fd72a4",
   "metadata": {},
   "outputs": [
    {
     "data": {
      "text/plain": [
       "(array(['fire', 'not fire'], dtype=object), array([59, 63], dtype=int64))"
      ]
     },
     "execution_count": 20,
     "metadata": {},
     "output_type": "execute_result"
    }
   ],
   "source": [
    "df['Classes'] = df['Classes'].str.strip()\n",
    "np.unique(df['Classes'], return_counts=True)"
   ]
  },
  {
   "cell_type": "code",
   "execution_count": 21,
   "id": "1bbde6d0",
   "metadata": {},
   "outputs": [
    {
     "data": {
      "image/png": "[encoded data removed]",
      "text/plain": [
       "<Figure size 432x288 with 1 Axes>"
      ]
     },
     "metadata": {
      "needs_background": "light"
     },
     "output_type": "display_data"
    }
   ],
   "source": [
    "sns.countplot(x = df['Classes']);"
   ]
  },
  {
   "cell_type": "markdown",
   "id": "9749385d",
   "metadata": {},
   "source": [
    "We obtain that there were fires on 59 out of 122 days."
   ]
  },
  {
   "cell_type": "markdown",
   "id": "c989edae",
   "metadata": {},
   "source": [
    "We can now plot histograms for the atmospheric condition attributes to see how they behaved during this time."
   ]
  },
  {
   "cell_type": "code",
   "execution_count": 39,
   "id": "ba0a2bf0",
   "metadata": {},
   "outputs": [
    {
     "data": {
      "image/png": "[encoded data removed]",
      "text/plain": [
       "<Figure size 432x288 with 1 Axes>"
      ]
     },
     "metadata": {
      "needs_background": "light"
     },
     "output_type": "display_data"
    },
    {
     "data": {
      "image/png": "[encoded data removed]",
      "text/plain": [
       "<Figure size 432x288 with 1 Axes>"
      ]
     },
     "metadata": {
      "needs_background": "light"
     },
     "output_type": "display_data"
    },
    {
     "data": {
      "image/png": "[encoded data removed]",
      "text/plain": [
       "<Figure size 432x288 with 1 Axes>"
      ]
     },
     "metadata": {
      "needs_background": "light"
     },
     "output_type": "display_data"
    },
    {
     "data": {
      "image/png": "[encoded data removed]",
      "text/plain": [
       "<Figure size 432x288 with 1 Axes>"
      ]
     },
     "metadata": {
      "needs_background": "light"
     },
     "output_type": "display_data"
    }
   ],
   "source": [
    "for i in ['Temperature', 'RH', 'Ws', 'Rain']:\n",
    "    plt.hist(df[i])\n",
    "    plt.title(i)\n",
    "    plt.show()"
   ]
  },
  {
   "cell_type": "markdown",
   "id": "50577b54",
   "metadata": {},
   "source": [
    "This by itself doesn't give us a lot of information relating these attributes to the fires. However, if we split our data frames in two, one only with when there was fire and one without, we can see how these attributes changed."
   ]
  },
  {
   "cell_type": "code",
   "execution_count": 45,
   "id": "9dc91429",
   "metadata": {},
   "outputs": [],
   "source": [
    "df_fire = df.loc[(df['Classes'] == 'fire')]\n",
    "df_notfire = df.loc[(df['Classes'] == 'not fire')]"
   ]
  },
  {
   "cell_type": "code",
   "execution_count": 60,
   "id": "26f5a926",
   "metadata": {},
   "outputs": [
    {
     "data": {
      "image/png": "[encoded data removed]",
      "text/plain": [
       "<Figure size 432x288 with 1 Axes>"
      ]
     },
     "metadata": {
      "needs_background": "light"
     },
     "output_type": "display_data"
    },
    {
     "data": {
      "image/png": "[encoded data removed]",
      "text/plain": [
       "<Figure size 432x288 with 1 Axes>"
      ]
     },
     "metadata": {
      "needs_background": "light"
     },
     "output_type": "display_data"
    }
   ],
   "source": [
    "plt.hist(df_fire['Temperature'])\n",
    "plt.title('Temperature (fire)')\n",
    "plt.xlabel('Temperature (°C)')\n",
    "plt.show()\n",
    "plt.hist(df_notfire['Temperature'])\n",
    "plt.title('Temperature (not fire)')\n",
    "plt.xlabel('Temperature (°C)')\n",
    "plt.show()"
   ]
  },
  {
   "cell_type": "code",
   "execution_count": 61,
   "id": "545f8e2c",
   "metadata": {},
   "outputs": [
    {
     "data": {
      "image/png": "[encoded data removed]",
      "text/plain": [
       "<Figure size 432x288 with 1 Axes>"
      ]
     },
     "metadata": {
      "needs_background": "light"
     },
     "output_type": "display_data"
    },
    {
     "data": {
      "image/png": "[encoded data removed]",
      "text/plain": [
       "<Figure size 432x288 with 1 Axes>"
      ]
     },
     "metadata": {
      "needs_background": "light"
     },
     "output_type": "display_data"
    }
   ],
   "source": [
    "plt.hist(df_fire['RH'])\n",
    "plt.title('RH (fire)')\n",
    "plt.xlabel('Relative Humidity (%)')\n",
    "plt.show()\n",
    "plt.hist(df_notfire['RH'])\n",
    "plt.title('RH (not fire)')\n",
    "plt.xlabel('Relative Humidity (%)')\n",
    "plt.show()"
   ]
  },
  {
   "cell_type": "code",
   "execution_count": 62,
   "id": "bdfb4ff8",
   "metadata": {},
   "outputs": [
    {
     "data": {
      "image/png": "[encoded data removed]",
      "text/plain": [
       "<Figure size 432x288 with 1 Axes>"
      ]
     },
     "metadata": {
      "needs_background": "light"
     },
     "output_type": "display_data"
    },
    {
     "data": {
      "image/png": "[encoded data removed]",
      "text/plain": [
       "<Figure size 432x288 with 1 Axes>"
      ]
     },
     "metadata": {
      "needs_background": "light"
     },
     "output_type": "display_data"
    }
   ],
   "source": [
    "plt.hist(df_fire['Ws'])\n",
    "plt.title('Ws (fire)')\n",
    "plt.xlabel('Wind speed (km/h)')\n",
    "plt.show()\n",
    "plt.hist(df_notfire['Ws'])\n",
    "plt.title('Ws (not fire)')\n",
    "plt.xlabel('Wind speed (km/h)')\n",
    "plt.show()"
   ]
  },
  {
   "cell_type": "code",
   "execution_count": 69,
   "id": "478107d1",
   "metadata": {},
   "outputs": [
    {
     "data": {
      "image/png": "[encoded data removed]",
      "text/plain": [
       "<Figure size 432x288 with 1 Axes>"
      ]
     },
     "metadata": {
      "needs_background": "light"
     },
     "output_type": "display_data"
    },
    {
     "data": {
      "image/png": "[encoded data removed]",
      "text/plain": [
       "<Figure size 432x288 with 1 Axes>"
      ]
     },
     "metadata": {
      "needs_background": "light"
     },
     "output_type": "display_data"
    }
   ],
   "source": [
    "plt.hist(df_fire['Rain'])\n",
    "plt.title('Rain (fire)')\n",
    "plt.xlabel(r'Rain ($mm/m^2$)')\n",
    "plt.show()\n",
    "plt.hist(df_notfire['Rain'])\n",
    "plt.title('Rain (not fire)')\n",
    "plt.xlabel(r'Rain ($mm/m^2$)')\n",
    "plt.show()"
   ]
  },
  {
   "cell_type": "markdown",
   "id": "f3bc9688",
   "metadata": {},
   "source": [
    "Finally, we can calculate the average of these attributes for days with or without fire."
   ]
  },
  {
   "cell_type": "code",
   "execution_count": 52,
   "id": "5f581b62",
   "metadata": {},
   "outputs": [
    {
     "data": {
      "text/html": [
       "<div>\n",
       "<style scoped>\n",
       "    .dataframe tbody tr th:only-of-type {\n",
       "        vertical-align: middle;\n",
       "    }\n",
       "\n",
       "    .dataframe tbody tr th {\n",
       "        vertical-align: top;\n",
       "    }\n",
       "\n",
       "    .dataframe thead th {\n",
       "        text-align: right;\n",
       "    }\n",
       "</style>\n",
       "<table border=\"1\" class=\"dataframe\">\n",
       "  <thead>\n",
       "    <tr style=\"text-align: right;\">\n",
       "      <th></th>\n",
       "      <th>day</th>\n",
       "      <th>month</th>\n",
       "      <th>year</th>\n",
       "      <th>Temperature</th>\n",
       "      <th>RH</th>\n",
       "      <th>Ws</th>\n",
       "      <th>Rain</th>\n",
       "      <th>FFMC</th>\n",
       "      <th>DMC</th>\n",
       "      <th>DC</th>\n",
       "      <th>ISI</th>\n",
       "      <th>BUI</th>\n",
       "      <th>FWI</th>\n",
       "    </tr>\n",
       "    <tr>\n",
       "      <th>Classes</th>\n",
       "      <th></th>\n",
       "      <th></th>\n",
       "      <th></th>\n",
       "      <th></th>\n",
       "      <th></th>\n",
       "      <th></th>\n",
       "      <th></th>\n",
       "      <th></th>\n",
       "      <th></th>\n",
       "      <th></th>\n",
       "      <th></th>\n",
       "      <th></th>\n",
       "      <th></th>\n",
       "    </tr>\n",
       "  </thead>\n",
       "  <tbody>\n",
       "    <tr>\n",
       "      <th>fire</th>\n",
       "      <td>18.542373</td>\n",
       "      <td>7.423729</td>\n",
       "      <td>2012.0</td>\n",
       "      <td>32.881356</td>\n",
       "      <td>63.644068</td>\n",
       "      <td>15.644068</td>\n",
       "      <td>0.013559</td>\n",
       "      <td>86.579661</td>\n",
       "      <td>19.472881</td>\n",
       "      <td>84.516949</td>\n",
       "      <td>6.242373</td>\n",
       "      <td>24.550847</td>\n",
       "      <td>10.537288</td>\n",
       "    </tr>\n",
       "    <tr>\n",
       "      <th>not fire</th>\n",
       "      <td>13.142857</td>\n",
       "      <td>7.571429</td>\n",
       "      <td>2012.0</td>\n",
       "      <td>29.587302</td>\n",
       "      <td>72.031746</td>\n",
       "      <td>16.333333</td>\n",
       "      <td>1.619048</td>\n",
       "      <td>63.522222</td>\n",
       "      <td>5.611111</td>\n",
       "      <td>23.795238</td>\n",
       "      <td>1.233333</td>\n",
       "      <td>6.880952</td>\n",
       "      <td>0.933333</td>\n",
       "    </tr>\n",
       "  </tbody>\n",
       "</table>\n",
       "</div>"
      ],
      "text/plain": [
       "                day     month    year  Temperature         RH         Ws  \\\n",
       "Classes                                                                    \n",
       "fire      18.542373  7.423729  2012.0    32.881356  63.644068  15.644068   \n",
       "not fire  13.142857  7.571429  2012.0    29.587302  72.031746  16.333333   \n",
       "\n",
       "              Rain       FFMC        DMC         DC       ISI        BUI  \\\n",
       "Classes                                                                    \n",
       "fire      0.013559  86.579661  19.472881  84.516949  6.242373  24.550847   \n",
       "not fire  1.619048  63.522222   5.611111  23.795238  1.233333   6.880952   \n",
       "\n",
       "                FWI  \n",
       "Classes              \n",
       "fire      10.537288  \n",
       "not fire   0.933333  "
      ]
     },
     "execution_count": 52,
     "metadata": {},
     "output_type": "execute_result"
    }
   ],
   "source": [
    "df.groupby(['Classes']).mean()"
   ]
  },
  {
   "cell_type": "markdown",
   "id": "878fb5a1",
   "metadata": {},
   "source": [
    "From the histograms and the averages, we can see that days with fire were characterized by higher temperatures, lower relative humidity, (slightly) lower wind speed and less rain."
   ]
  },
  {
   "cell_type": "markdown",
   "id": "c81a369b",
   "metadata": {},
   "source": [
    "## 2. Preprocessing"
   ]
  },
  {
   "cell_type": "markdown",
   "id": "3411c887",
   "metadata": {},
   "source": [
    "Our next step in to prepare the data for the machine learning algorithms. We first separate our class from our predicting attributes."
   ]
  },
  {
   "cell_type": "code",
   "execution_count": 54,
   "id": "dee56e88",
   "metadata": {},
   "outputs": [
    {
     "data": {
      "text/plain": [
       "Index(['day', 'month', 'year', 'Temperature', 'RH', 'Ws', 'Rain', 'FFMC',\n",
       "       'DMC', 'DC', 'ISI', 'BUI', 'FWI'],\n",
       "      dtype='object')"
      ]
     },
     "execution_count": 54,
     "metadata": {},
     "output_type": "execute_result"
    }
   ],
   "source": [
    "X_df = df.drop(columns=['Classes'])\n",
    "y_df = df['Classes']\n",
    "X_df.columns"
   ]
  },
  {
   "cell_type": "markdown",
   "id": "a3faad0b",
   "metadata": {},
   "source": [
    "We are interested in predicting forest fires using only atmospheric data, so let us drop all columns from X_df except for \"Temperature\", \"RH\", \"Ws\" and \"Rain\"."
   ]
  },
  {
   "cell_type": "code",
   "execution_count": 55,
   "id": "03764b3a",
   "metadata": {},
   "outputs": [
    {
     "data": {
      "text/plain": [
       "Index(['Temperature', 'RH', 'Ws', 'Rain'], dtype='object')"
      ]
     },
     "execution_count": 55,
     "metadata": {},
     "output_type": "execute_result"
    }
   ],
   "source": [
    "X_df = X_df[['Temperature', 'RH', 'Ws', 'Rain']]\n",
    "X_df.columns"
   ]
  },
  {
   "cell_type": "markdown",
   "id": "261e89c2",
   "metadata": {},
   "source": [
    "All of the predicting attributes are already numerical, so there is no need to employ the label encoder and the one hot encoder."
   ]
  },
  {
   "cell_type": "markdown",
   "id": "b84b50b9",
   "metadata": {},
   "source": [
    "Since the values of different attributes are in different scales, let us now use the standard scaler to standardize them."
   ]
  },
  {
   "cell_type": "code",
   "execution_count": 58,
   "id": "4107150d",
   "metadata": {},
   "outputs": [
    {
     "data": {
      "text/plain": [
       "array([[-6.59353733e-01, -9.88010013e-01,  7.04943267e-01,\n",
       "        -3.51193273e-01],\n",
       "       [-6.59353733e-01, -6.27928694e-01, -1.05741490e+00,\n",
       "         1.90628255e-01],\n",
       "       [-1.56658481e+00,  1.26249823e+00,  2.11482980e+00,\n",
       "         5.10870058e+00],\n",
       "       [-1.86899517e+00,  1.89264054e+00, -1.05741490e+00,\n",
       "         6.90771204e-01],\n",
       "       [-1.26417445e+00,  8.12396582e-01,  0.00000000e+00,\n",
       "        -3.51193273e-01],\n",
       "       [-5.45330155e-02, -8.78067151e-02, -7.04943267e-01,\n",
       "        -3.51193273e-01],\n",
       "       [ 5.50287702e-01, -1.25807100e+00, -1.05741490e+00,\n",
       "        -3.51193273e-01],\n",
       "       [-3.56943374e-01,  4.52315263e-01, -3.52471634e-01,\n",
       "        -3.51193273e-01],\n",
       "       [-1.86899517e+00,  1.80262021e+00, -1.05741490e+00,\n",
       "        -2.67836115e-01],\n",
       "       [-9.61764092e-01,  9.92437242e-01, -1.40988653e+00,\n",
       "        -3.51193273e-01],\n",
       "       [-5.45330155e-02, -2.67847375e-01, -7.04943267e-01,\n",
       "        -3.51193273e-01],\n",
       "       [-1.56658481e+00,  1.17247790e+00,  1.05741490e+00,\n",
       "        -3.51193273e-01],\n",
       "       [-1.26417445e+00,  1.44253889e+00,  1.76235817e+00,\n",
       "         1.48949676e-01],\n",
       "       [-3.56943374e-01,  9.02416912e-01,  1.40988653e+00,\n",
       "        -1.42800377e-01],\n",
       "       [-9.61764092e-01,  1.08245757e+00,  3.52471634e-01,\n",
       "         9.40842678e-01],\n",
       "       [-6.59353733e-01,  1.89264054e+00, -1.05741490e+00,\n",
       "        -5.94432193e-02],\n",
       "       [-3.56943374e-01,  1.89264054e+00,  0.00000000e+00,\n",
       "        -1.01121798e-01],\n",
       "       [-5.45330155e-02,  9.02416912e-01, -7.04943267e-01,\n",
       "        -2.26157536e-01],\n",
       "       [-5.45330155e-02, -1.16805067e+00,  0.00000000e+00,\n",
       "        -3.09514694e-01],\n",
       "       [-3.56943374e-01,  1.08245757e+00,  0.00000000e+00,\n",
       "        -1.84478956e-01],\n",
       "       [-3.56943374e-01,  9.02416912e-01, -7.04943267e-01,\n",
       "        -3.51193273e-01],\n",
       "       [-5.45330155e-02, -8.78067151e-02,  3.52471634e-01,\n",
       "        -3.09514694e-01],\n",
       "       [ 2.47877343e-01, -5.37908364e-01,  7.04943267e-01,\n",
       "        -3.09514694e-01],\n",
       "       [ 2.47877343e-01, -1.77827045e-01,  3.52471634e-01,\n",
       "        -3.51193273e-01],\n",
       "       [-5.45330155e-02, -3.57867704e-01, -3.52471634e-01,\n",
       "        -3.51193273e-01],\n",
       "       [-5.45330155e-02, -3.57867704e-01,  7.04943267e-01,\n",
       "        -3.51193273e-01],\n",
       "       [ 8.52698061e-01, -1.34809133e+00,  7.04943267e-01,\n",
       "        -3.51193273e-01],\n",
       "       [ 2.47877343e-01, -1.16805067e+00, -7.04943267e-01,\n",
       "        -3.51193273e-01],\n",
       "       [ 2.47877343e-01, -1.88821331e+00, -1.05741490e+00,\n",
       "        -2.26157536e-01],\n",
       "       [ 5.50287702e-01, -1.61815232e+00, -7.04943267e-01,\n",
       "        -3.51193273e-01],\n",
       "       [-6.59353733e-01,  2.21361467e-03,  1.05741490e+00,\n",
       "         6.55925179e-02],\n",
       "       [-1.26417445e+00,  6.32355923e-01,  1.05741490e+00,\n",
       "         1.48949676e-01],\n",
       "       [ 2.47877343e-01,  7.22376253e-01,  1.40988653e+00,\n",
       "        -5.94432193e-02],\n",
       "       [ 5.50287702e-01,  9.02416912e-01,  3.52471634e-01,\n",
       "        -3.51193273e-01],\n",
       "       [ 5.50287702e-01, -1.77827045e-01, -7.04943267e-01,\n",
       "        -3.51193273e-01],\n",
       "       [ 2.47877343e-01, -4.47888034e-01, -7.04943267e-01,\n",
       "        -3.51193273e-01],\n",
       "       [ 1.15510842e+00, -3.57867704e-01,  7.04943267e-01,\n",
       "        -2.67836115e-01],\n",
       "       [ 5.50287702e-01,  2.21361467e-03,  1.05741490e+00,\n",
       "        -3.51193273e-01],\n",
       "       [ 2.47877343e-01,  2.21361467e-03, -7.04943267e-01,\n",
       "         2.32306834e-01],\n",
       "       [ 5.50287702e-01,  9.22339444e-02, -1.05741490e+00,\n",
       "        -5.94432193e-02],\n",
       "       [ 5.50287702e-01,  7.22376253e-01, -7.04943267e-01,\n",
       "        -3.51193273e-01],\n",
       "       [-5.45330155e-02,  6.32355923e-01, -1.05741490e+00,\n",
       "        -3.09514694e-01],\n",
       "       [ 8.52698061e-01,  1.17247790e+00, -3.52471634e-01,\n",
       "        -3.51193273e-01],\n",
       "       [ 8.52698061e-01, -6.27928694e-01, -1.05741490e+00,\n",
       "        -1.01121798e-01],\n",
       "       [-3.56943374e-01,  1.08245757e+00,  1.05741490e+00,\n",
       "        -1.84478956e-01],\n",
       "       [-9.61764092e-01,  7.22376253e-01,  1.76235817e+00,\n",
       "        -3.51193273e-01],\n",
       "       [-6.59353733e-01,  1.82254274e-01, -7.04943267e-01,\n",
       "        -3.51193273e-01],\n",
       "       [-5.45330155e-02,  2.21361467e-03, -7.04943267e-01,\n",
       "        -3.51193273e-01],\n",
       "       [ 1.15510842e+00, -8.07969353e-01,  3.52471634e-01,\n",
       "        -3.51193273e-01],\n",
       "       [ 5.50287702e-01, -2.67847375e-01, -3.52471634e-01,\n",
       "        -3.09514694e-01],\n",
       "       [ 5.50287702e-01,  1.82254274e-01,  3.52471634e-01,\n",
       "        -3.51193273e-01],\n",
       "       [-9.61764092e-01,  9.92437242e-01,  7.04943267e-01,\n",
       "        -3.09514694e-01],\n",
       "       [-1.26417445e+00, -1.77827045e-01,  2.11482980e+00,\n",
       "        -1.84478956e-01],\n",
       "       [-9.61764092e-01,  9.02416912e-01,  0.00000000e+00,\n",
       "        -3.09514694e-01],\n",
       "       [-5.45330155e-02, -2.67847375e-01,  7.04943267e-01,\n",
       "        -3.51193273e-01],\n",
       "       [ 1.45751878e+00, -1.34809133e+00,  1.05741490e+00,\n",
       "        -3.51193273e-01],\n",
       "       [ 1.45751878e+00, -1.79819298e+00, -1.05741490e+00,\n",
       "        -3.51193273e-01],\n",
       "       [ 5.50287702e-01,  7.22376253e-01, -3.52471634e-01,\n",
       "        -3.51193273e-01],\n",
       "       [ 2.47877343e-01,  4.52315263e-01, -3.52471634e-01,\n",
       "        -3.51193273e-01],\n",
       "       [-5.45330155e-02,  9.92437242e-01, -3.52471634e-01,\n",
       "        -3.51193273e-01],\n",
       "       [ 1.15510842e+00, -3.57867704e-01,  3.52471634e-01,\n",
       "        -3.51193273e-01],\n",
       "       [ 1.45751878e+00, -2.06825397e+00, -7.04943267e-01,\n",
       "        -3.51193273e-01],\n",
       "       [ 1.15510842e+00, -1.16805067e+00, -1.40988653e+00,\n",
       "        -1.84478956e-01],\n",
       "       [ 1.15510842e+00, -4.47888034e-01, -7.04943267e-01,\n",
       "        -2.26157536e-01],\n",
       "       [ 8.52698061e-01,  9.22339444e-02, -1.05741490e+00,\n",
       "        -3.51193273e-01],\n",
       "       [ 8.52698061e-01, -2.67847375e-01, -1.05741490e+00,\n",
       "        -3.51193273e-01],\n",
       "       [ 2.47877343e-01,  6.32355923e-01, -7.04943267e-01,\n",
       "        -3.51193273e-01],\n",
       "       [ 2.47877343e-01,  9.22339444e-02,  0.00000000e+00,\n",
       "        -3.51193273e-01],\n",
       "       [ 2.47877343e-01, -7.17949023e-01,  7.04943267e-01,\n",
       "        -2.26157536e-01],\n",
       "       [ 1.15510842e+00, -8.07969353e-01,  3.52471634e-01,\n",
       "        -3.51193273e-01],\n",
       "       [ 1.15510842e+00, -1.16805067e+00, -7.04943267e-01,\n",
       "        -3.51193273e-01],\n",
       "       [ 1.15510842e+00, -4.47888034e-01, -1.05741490e+00,\n",
       "        -3.51193273e-01],\n",
       "       [ 1.15510842e+00, -1.52813199e+00, -1.05741490e+00,\n",
       "        -2.26157536e-01],\n",
       "       [ 1.15510842e+00, -4.47888034e-01, -3.52471634e-01,\n",
       "        -3.51193273e-01],\n",
       "       [ 5.50287702e-01, -1.77827045e-01, -7.04943267e-01,\n",
       "        -3.51193273e-01],\n",
       "       [ 1.45751878e+00, -1.16805067e+00, -1.05741490e+00,\n",
       "        -2.26157536e-01],\n",
       "       [ 1.45751878e+00, -6.27928694e-01,  7.04943267e-01,\n",
       "        -2.26157536e-01],\n",
       "       [ 1.75992914e+00, -1.43811166e+00,  7.04943267e-01,\n",
       "        -3.51193273e-01],\n",
       "       [ 1.45751878e+00, -1.25807100e+00,  7.04943267e-01,\n",
       "        -3.51193273e-01],\n",
       "       [ 1.15510842e+00, -5.37908364e-01,  1.05741490e+00,\n",
       "        -3.51193273e-01],\n",
       "       [ 1.15510842e+00,  2.21361467e-03,  1.05741490e+00,\n",
       "        -3.51193273e-01],\n",
       "       [ 1.45751878e+00, -8.97989683e-01,  1.05741490e+00,\n",
       "        -3.51193273e-01],\n",
       "       [ 1.45751878e+00, -1.16805067e+00,  7.04943267e-01,\n",
       "        -3.51193273e-01],\n",
       "       [ 1.45751878e+00, -1.34809133e+00,  0.00000000e+00,\n",
       "        -3.51193273e-01],\n",
       "       [ 8.52698061e-01, -3.57867704e-01, -7.04943267e-01,\n",
       "        -3.51193273e-01],\n",
       "       [ 1.15510842e+00, -7.17949023e-01, -3.52471634e-01,\n",
       "        -3.51193273e-01],\n",
       "       [-5.45330155e-02,  9.02416912e-01,  7.04943267e-01,\n",
       "        -3.51193273e-01],\n",
       "       [ 5.50287702e-01,  1.26249823e+00,  1.76235817e+00,\n",
       "        -3.51193273e-01],\n",
       "       [ 8.52698061e-01, -3.57867704e-01,  0.00000000e+00,\n",
       "        -3.51193273e-01],\n",
       "       [ 1.15510842e+00, -1.79819298e+00,  7.04943267e-01,\n",
       "        -3.51193273e-01],\n",
       "       [ 1.15510842e+00,  1.82254274e-01,  3.52471634e-01,\n",
       "        -1.77646403e-02],\n",
       "       [-9.61764092e-01,  1.08245757e+00,  1.76235817e+00,\n",
       "         6.65080801e+00],\n",
       "       [-1.86899517e+00,  7.22376253e-01,  3.52471634e-01,\n",
       "         2.64966442e+00],\n",
       "       [-2.77622625e+00,  1.62257955e+00, -3.52471634e-01,\n",
       "         3.85834321e+00],\n",
       "       [-1.86899517e+00,  9.02416912e-01, -3.52471634e-01,\n",
       "         1.23259273e+00],\n",
       "       [-6.59353733e-01,  4.52315263e-01,  3.52471634e-01,\n",
       "        -3.09514694e-01],\n",
       "       [-6.59353733e-01,  6.32355923e-01,  0.00000000e+00,\n",
       "        -3.51193273e-01],\n",
       "       [-6.59353733e-01,  5.42335593e-01,  1.05741490e+00,\n",
       "        -3.09514694e-01],\n",
       "       [-5.45330155e-02,  2.72274604e-01,  3.52471634e-01,\n",
       "        -2.26157536e-01],\n",
       "       [-3.56943374e-01,  4.52315263e-01,  3.52471634e-01,\n",
       "         2.39139388e-02],\n",
       "       [-3.56943374e-01,  8.12396582e-01, -3.52471634e-01,\n",
       "         6.55925179e-02],\n",
       "       [ 5.50287702e-01,  4.52315263e-01, -1.40988653e+00,\n",
       "         3.99021150e-01],\n",
       "       [-3.56943374e-01,  8.12396582e-01,  1.76235817e+00,\n",
       "         3.99021150e-01],\n",
       "       [-6.59353733e-01,  1.80262021e+00, -1.05741490e+00,\n",
       "        -3.51193273e-01],\n",
       "       [-1.86899517e+00,  1.62257955e+00,  1.76235817e+00,\n",
       "         1.56602136e+00],\n",
       "       [-2.77622625e+00,  7.22376253e-01,  3.52471634e+00,\n",
       "         3.10812879e+00],\n",
       "       [-2.17140553e+00,  1.26249823e+00, -3.52471634e-01,\n",
       "        -1.84478956e-01],\n",
       "       [-3.56943374e-01, -2.67847375e-01, -7.04943267e-01,\n",
       "        -3.51193273e-01],\n",
       "       [-5.45330155e-02, -1.43811166e+00, -7.04943267e-01,\n",
       "        -3.51193273e-01],\n",
       "       [ 2.47877343e-01, -1.70817265e+00, -1.76235817e+00,\n",
       "        -3.51193273e-01],\n",
       "       [-6.59353733e-01, -9.88010013e-01, -7.04943267e-01,\n",
       "        -3.51193273e-01],\n",
       "       [-9.61764092e-01,  1.44253889e+00,  7.04943267e-01,\n",
       "        -3.51193273e-01],\n",
       "       [-5.45330155e-02, -1.16805067e+00, -1.76235817e+00,\n",
       "        -3.51193273e-01],\n",
       "       [-5.45330155e-02, -1.61815232e+00,  1.05741490e+00,\n",
       "        -1.01121798e-01],\n",
       "       [ 2.47877343e-01, -1.25807100e+00, -1.76235817e+00,\n",
       "        -1.42800377e-01],\n",
       "       [-6.59353733e-01, -2.67847375e-01,  1.05741490e+00,\n",
       "        -1.01121798e-01],\n",
       "       [-1.56658481e+00,  1.17247790e+00,  1.76235817e+00,\n",
       "         2.06616431e+00],\n",
       "       [-5.45330155e-02, -1.25807100e+00, -1.76235817e+00,\n",
       "        -3.51193273e-01],\n",
       "       [-5.45330155e-02, -1.77827045e-01, -1.76235817e+00,\n",
       "        -3.51193273e-01],\n",
       "       [ 2.47877343e-01, -1.88821331e+00, -7.04943267e-01,\n",
       "        -5.94432193e-02],\n",
       "       [-1.56658481e+00,  1.08245757e+00,  0.00000000e+00,\n",
       "         3.99021150e-01],\n",
       "       [-1.86899517e+00,  9.02416912e-01, -7.04943267e-01,\n",
       "         2.32306834e-01]])"
      ]
     },
     "execution_count": 58,
     "metadata": {},
     "output_type": "execute_result"
    }
   ],
   "source": [
    "scaler_df = StandardScaler()\n",
    "X_df = scaler_df.fit_transform(X_df)\n",
    "X_df"
   ]
  },
  {
   "cell_type": "markdown",
   "id": "a9d7d99a",
   "metadata": {},
   "source": [
    "Now let us save X_df and y_df using pickle."
   ]
  },
  {
   "cell_type": "code",
   "execution_count": 59,
   "id": "5a1a093c",
   "metadata": {},
   "outputs": [],
   "source": [
    "with open('forest_fires.pkl', mode='wb') as f:\n",
    "    pickle.dump([X_df, y_df], f)"
   ]
  },
  {
   "cell_type": "markdown",
   "id": "f405768b",
   "metadata": {},
   "source": [
    "With this we conclude the preprocessing step."
   ]
  },
  {
   "cell_type": "markdown",
   "id": "b5e36c47",
   "metadata": {},
   "source": [
    "## 3. Naive Bayes"
   ]
  },
  {
   "cell_type": "markdown",
   "id": "0ef8151c",
   "metadata": {},
   "source": [
    "We can now begin to make predictions on this data set. We will begin with the naive Bayes algorithm."
   ]
  },
  {
   "cell_type": "markdown",
   "id": "2c37a873",
   "metadata": {},
   "source": [
    "We first import the preprocessed data."
   ]
  },
  {
   "cell_type": "code",
   "execution_count": 2,
   "id": "62e2cc9b",
   "metadata": {},
   "outputs": [],
   "source": [
    "with open('forest_fires.pkl', mode='rb') as f:\n",
    "    X_df, y_df = pickle.load(f)"
   ]
  },
  {
   "cell_type": "markdown",
   "id": "e8caae82",
   "metadata": {},
   "source": [
    "Since the naive Bayes algorithm doesn't have any parameters, we cannot perform their tuning."
   ]
  },
  {
   "cell_type": "markdown",
   "id": "f9cc8702",
   "metadata": {},
   "source": [
    "We then employ cross validation to test this algorithm with different train-test splits. We will use k=10 (1/10 of the data, in different configurations, is used as test sample) and will employ 30 different divisions."
   ]
  },
  {
   "cell_type": "code",
   "execution_count": 4,
   "id": "a269141f",
   "metadata": {},
   "outputs": [
    {
     "data": {
      "text/plain": [
       "[0.8282051282051283,\n",
       " 0.8192307692307692,\n",
       " 0.8211538461538461,\n",
       " 0.8198717948717948,\n",
       " 0.8173076923076923,\n",
       " 0.8256410256410256,\n",
       " 0.8275641025641025,\n",
       " 0.8121794871794872,\n",
       " 0.8128205128205128,\n",
       " 0.8192307692307693,\n",
       " 0.8198717948717948,\n",
       " 0.8294871794871795,\n",
       " 0.7948717948717949,\n",
       " 0.8102564102564103,\n",
       " 0.8352564102564102,\n",
       " 0.8185897435897436,\n",
       " 0.8205128205128205,\n",
       " 0.8192307692307693,\n",
       " 0.8198717948717948,\n",
       " 0.8185897435897436,\n",
       " 0.826923076923077,\n",
       " 0.8211538461538461,\n",
       " 0.817948717948718,\n",
       " 0.8185897435897435,\n",
       " 0.8185897435897436,\n",
       " 0.8294871794871794,\n",
       " 0.8192307692307692,\n",
       " 0.8282051282051281,\n",
       " 0.8141025641025641,\n",
       " 0.826923076923077]"
      ]
     },
     "execution_count": 4,
     "metadata": {},
     "output_type": "execute_result"
    }
   ],
   "source": [
    "results_bayes = []\n",
    "bayes = GaussianNB()\n",
    "for i in range(30):\n",
    "    kfold = KFold(n_splits=10, shuffle=True, random_state=i)\n",
    "    scores = cross_val_score(bayes, X_df, y_df, cv=kfold)\n",
    "    results_bayes.append(scores.mean())\n",
    "results_bayes"
   ]
  },
  {
   "cell_type": "markdown",
   "id": "1d1a286b",
   "metadata": {},
   "source": [
    "## 4. Decision Tree"
   ]
  },
  {
   "cell_type": "markdown",
   "id": "bf1f2c79",
   "metadata": {},
   "source": [
    "The next algorithm we are going to test is the decision tree classifier."
   ]
  },
  {
   "cell_type": "code",
   "execution_count": 5,
   "id": "eabd1ea3",
   "metadata": {},
   "outputs": [],
   "source": [
    "with open('forest_fires.pkl', mode='rb') as f:\n",
    "    X_df, y_df = pickle.load(f)"
   ]
  },
  {
   "cell_type": "markdown",
   "id": "23d653f2",
   "metadata": {},
   "source": [
    "We first must perform the tuning of the parameters using grid search."
   ]
  },
  {
   "cell_type": "code",
   "execution_count": 6,
   "id": "0a0982d9",
   "metadata": {},
   "outputs": [
    {
     "data": {
      "text/plain": [
       "{'criterion': 'gini',\n",
       " 'min_samples_leaf': 1,\n",
       " 'min_samples_split': 2,\n",
       " 'splitter': 'best'}"
      ]
     },
     "execution_count": 6,
     "metadata": {},
     "output_type": "execute_result"
    }
   ],
   "source": [
    "parameters = {'criterion': ['gini', 'entropy'],\n",
    "             'splitter': ['best', 'random'],\n",
    "             'min_samples_split': [2, 5, 10],\n",
    "             'min_samples_leaf': [1, 5, 10]}\n",
    "grid_search = GridSearchCV(estimator=DecisionTreeClassifier(), param_grid=parameters)\n",
    "grid_search.fit(X_df, y_df)\n",
    "best_parameters = grid_search.best_params_\n",
    "best_parameters"
   ]
  },
  {
   "cell_type": "markdown",
   "id": "aa77872b",
   "metadata": {},
   "source": [
    "Now that we have the best parameters, we use cross validation to obtain the accuracies."
   ]
  },
  {
   "cell_type": "code",
   "execution_count": 7,
   "id": "3d95136c",
   "metadata": {},
   "outputs": [
    {
     "data": {
      "text/plain": [
       "[0.8544871794871793,\n",
       " 0.8352564102564102,\n",
       " 0.8371794871794872,\n",
       " 0.8205128205128205,\n",
       " 0.8012820512820513,\n",
       " 0.8339743589743589,\n",
       " 0.826923076923077,\n",
       " 0.8371794871794872,\n",
       " 0.8461538461538461,\n",
       " 0.8519230769230768,\n",
       " 0.8596153846153847,\n",
       " 0.8185897435897436,\n",
       " 0.8108974358974359,\n",
       " 0.8596153846153847,\n",
       " 0.8115384615384617,\n",
       " 0.8358974358974359,\n",
       " 0.7942307692307692,\n",
       " 0.8769230769230768,\n",
       " 0.8371794871794872,\n",
       " 0.8339743589743589,\n",
       " 0.8423076923076923,\n",
       " 0.8346153846153846,\n",
       " 0.8435897435897436,\n",
       " 0.8685897435897436,\n",
       " 0.8192307692307693,\n",
       " 0.8384615384615385,\n",
       " 0.8192307692307693,\n",
       " 0.8301282051282051,\n",
       " 0.8358974358974359,\n",
       " 0.8442307692307693]"
      ]
     },
     "execution_count": 7,
     "metadata": {},
     "output_type": "execute_result"
    }
   ],
   "source": [
    "results_tree = []\n",
    "tree = DecisionTreeClassifier(criterion='gini', min_samples_leaf=1, min_samples_split=2, splitter='best')\n",
    "for i in range(30):\n",
    "    kfold = KFold(n_splits=10, shuffle=True, random_state=i)\n",
    "    scores = cross_val_score(tree, X_df, y_df, cv=kfold)\n",
    "    results_tree.append(scores.mean())\n",
    "results_tree"
   ]
  },
  {
   "cell_type": "markdown",
   "id": "9088333e",
   "metadata": {},
   "source": [
    "## 5. Random Forest"
   ]
  },
  {
   "cell_type": "markdown",
   "id": "6c6cbd07",
   "metadata": {},
   "source": [
    "We will now use the random forest classifier."
   ]
  },
  {
   "cell_type": "code",
   "execution_count": 16,
   "id": "40055e0f",
   "metadata": {},
   "outputs": [],
   "source": [
    "with open('forest_fires.pkl', 'rb') as f:\n",
    "    X_df, y_df = pickle.load(f)"
   ]
  },
  {
   "cell_type": "markdown",
   "id": "d54c8e40",
   "metadata": {},
   "source": [
    "First we tune the parameters."
   ]
  },
  {
   "cell_type": "code",
   "execution_count": 17,
   "id": "cb8caf36",
   "metadata": {},
   "outputs": [
    {
     "data": {
      "text/plain": [
       "{'criterion': 'gini',\n",
       " 'min_samples_leaf': 5,\n",
       " 'min_samples_split': 2,\n",
       " 'n_estimators': 10}"
      ]
     },
     "execution_count": 17,
     "metadata": {},
     "output_type": "execute_result"
    }
   ],
   "source": [
    "parameters = {'criterion': ['gini', 'entropy'],\n",
    "             'n_estimators': [10, 40, 100, 150],\n",
    "             'min_samples_split': [2, 5, 10],\n",
    "             'min_samples_leaf': [1, 5, 10]}\n",
    "grid_search = GridSearchCV(estimator=RandomForestClassifier(), param_grid=parameters)\n",
    "grid_search.fit(X_df, y_df)\n",
    "best_parameters = grid_search.best_params_\n",
    "best_parameters"
   ]
  },
  {
   "cell_type": "markdown",
   "id": "b852315c",
   "metadata": {},
   "source": [
    "Then we calculate the accuracies with cross validation."
   ]
  },
  {
   "cell_type": "code",
   "execution_count": 18,
   "id": "84bdecd3",
   "metadata": {},
   "outputs": [
    {
     "data": {
      "text/plain": [
       "[0.8602564102564102,\n",
       " 0.8429487179487178,\n",
       " 0.8442307692307691,\n",
       " 0.8288461538461538,\n",
       " 0.8506410256410257,\n",
       " 0.8769230769230768,\n",
       " 0.8519230769230768,\n",
       " 0.8294871794871794,\n",
       " 0.8211538461538461,\n",
       " 0.8769230769230768,\n",
       " 0.8602564102564102,\n",
       " 0.8205128205128206,\n",
       " 0.8448717948717949,\n",
       " 0.8666666666666666,\n",
       " 0.8512820512820511,\n",
       " 0.8358974358974359,\n",
       " 0.8365384615384617,\n",
       " 0.8679487179487179,\n",
       " 0.8532051282051283,\n",
       " 0.8173076923076923,\n",
       " 0.8519230769230768,\n",
       " 0.8358974358974358,\n",
       " 0.8602564102564102,\n",
       " 0.8429487179487181,\n",
       " 0.8358974358974359,\n",
       " 0.8467948717948717,\n",
       " 0.851923076923077,\n",
       " 0.8621794871794872,\n",
       " 0.8448717948717949,\n",
       " 0.8525641025641025]"
      ]
     },
     "execution_count": 18,
     "metadata": {},
     "output_type": "execute_result"
    }
   ],
   "source": [
    "results_forest = []\n",
    "forest = RandomForestClassifier(criterion='gini', min_samples_leaf=5, min_samples_split=2, n_estimators=10)\n",
    "for i in range(30):\n",
    "    kfold = KFold(n_splits=10, shuffle=True, random_state=i)\n",
    "    scores = cross_val_score(forest, X_df, y_df, cv=kfold)\n",
    "    results_forest.append(scores.mean())\n",
    "results_forest"
   ]
  },
  {
   "cell_type": "markdown",
   "id": "f803f2ca",
   "metadata": {},
   "source": [
    "## 6. K Nearest Neighbors (kNN)"
   ]
  },
  {
   "cell_type": "markdown",
   "id": "9609a981",
   "metadata": {},
   "source": [
    "Next we will test the kNN classification algorithm."
   ]
  },
  {
   "cell_type": "code",
   "execution_count": 19,
   "id": "450829c8",
   "metadata": {},
   "outputs": [],
   "source": [
    "with open('forest_fires.pkl', 'rb') as f:\n",
    "    X_df, y_df = pickle.load(f)"
   ]
  },
  {
   "cell_type": "markdown",
   "id": "a680b164",
   "metadata": {},
   "source": [
    "We use grid search to tune the parameters."
   ]
  },
  {
   "cell_type": "code",
   "execution_count": 25,
   "id": "c5ee9444",
   "metadata": {},
   "outputs": [
    {
     "data": {
      "text/plain": [
       "{'n_neighbors': 5, 'p': 1}"
      ]
     },
     "execution_count": 25,
     "metadata": {},
     "output_type": "execute_result"
    }
   ],
   "source": [
    "parameters = {'n_neighbors': [3, 5, 10, 20],\n",
    "             'p': [1, 2]}\n",
    "grid_search = GridSearchCV(estimator=KNeighborsClassifier(), param_grid=parameters)\n",
    "grid_search.fit(X_df, y_df)\n",
    "best_parameters = grid_search.best_params_\n",
    "best_parameters"
   ]
  },
  {
   "cell_type": "markdown",
   "id": "7fc8c7ef",
   "metadata": {},
   "source": [
    "Then we use cross validation to determine the accuracies."
   ]
  },
  {
   "cell_type": "code",
   "execution_count": 21,
   "id": "cdee3b31",
   "metadata": {},
   "outputs": [
    {
     "data": {
      "text/plain": [
       "[0.7371794871794871,\n",
       " 0.7185897435897436,\n",
       " 0.7217948717948718,\n",
       " 0.7288461538461538,\n",
       " 0.7185897435897435,\n",
       " 0.7044871794871794,\n",
       " 0.7615384615384615,\n",
       " 0.7288461538461538,\n",
       " 0.6794871794871795,\n",
       " 0.6974358974358974,\n",
       " 0.7237179487179487,\n",
       " 0.7147435897435896,\n",
       " 0.7384615384615385,\n",
       " 0.7025641025641025,\n",
       " 0.717948717948718,\n",
       " 0.7288461538461539,\n",
       " 0.7198717948717949,\n",
       " 0.7371794871794871,\n",
       " 0.7230769230769231,\n",
       " 0.7198717948717948,\n",
       " 0.7205128205128205,\n",
       " 0.737820512820513,\n",
       " 0.7044871794871794,\n",
       " 0.7282051282051283,\n",
       " 0.7192307692307692,\n",
       " 0.7064102564102563,\n",
       " 0.7025641025641026,\n",
       " 0.7147435897435896,\n",
       " 0.7153846153846153,\n",
       " 0.7282051282051281]"
      ]
     },
     "execution_count": 21,
     "metadata": {},
     "output_type": "execute_result"
    }
   ],
   "source": [
    "results_knn = []\n",
    "knn = KNeighborsClassifier(n_neighbors=5, p=1)\n",
    "for i in range(30):\n",
    "    kfold = KFold(n_splits=10, shuffle=True, random_state=i)\n",
    "    scores = cross_val_score(knn, X_df, y_df, cv=kfold)\n",
    "    results_knn.append(scores.mean())\n",
    "results_knn"
   ]
  },
  {
   "cell_type": "markdown",
   "id": "9ee5837f",
   "metadata": {},
   "source": [
    "## 7. Logistic Regression"
   ]
  },
  {
   "cell_type": "markdown",
   "id": "6223ea3a",
   "metadata": {},
   "source": [
    "We will now test the logistic regression classification algorithm."
   ]
  },
  {
   "cell_type": "code",
   "execution_count": 27,
   "id": "b3e71d31",
   "metadata": {},
   "outputs": [],
   "source": [
    "with open('forest_fires.pkl', 'rb') as f:\n",
    "    X_df, y_df = pickle.load(f)"
   ]
  },
  {
   "cell_type": "markdown",
   "id": "ed2cba04",
   "metadata": {},
   "source": [
    "We use grid search to tune the parameters."
   ]
  },
  {
   "cell_type": "code",
   "execution_count": 29,
   "id": "540a6cc5",
   "metadata": {},
   "outputs": [
    {
     "data": {
      "text/plain": [
       "{'C': 2.0, 'max_iter': 500, 'solver': 'lbfgs', 'tol': 0.0001}"
      ]
     },
     "execution_count": 29,
     "metadata": {},
     "output_type": "execute_result"
    }
   ],
   "source": [
    "parameters = {'tol': [0.0001, 0.00001, 0.000001],\n",
    "             'C': [1.0, 1.5, 2.0],\n",
    "             'solver': ['lbfgs', 'sag', 'saga'],\n",
    "             'max_iter': [500]}\n",
    "grid_search = GridSearchCV(estimator=LogisticRegression(), param_grid=parameters)\n",
    "grid_search.fit(X_df, y_df)\n",
    "best_parameters = grid_search.best_params_\n",
    "best_parameters"
   ]
  },
  {
   "cell_type": "markdown",
   "id": "e42f0f26",
   "metadata": {},
   "source": [
    "Then we calculate the accuracies."
   ]
  },
  {
   "cell_type": "code",
   "execution_count": 31,
   "id": "51ba344a",
   "metadata": {},
   "outputs": [
    {
     "data": {
      "text/plain": [
       "[0.8032051282051281,\n",
       " 0.7846153846153847,\n",
       " 0.7724358974358975,\n",
       " 0.7852564102564104,\n",
       " 0.808974358974359,\n",
       " 0.7955128205128206,\n",
       " 0.7858974358974358,\n",
       " 0.8108974358974359,\n",
       " 0.801923076923077,\n",
       " 0.7961538461538462,\n",
       " 0.8044871794871794,\n",
       " 0.7878205128205129,\n",
       " 0.7974358974358974,\n",
       " 0.7846153846153846,\n",
       " 0.7871794871794872,\n",
       " 0.7871794871794872,\n",
       " 0.8032051282051281,\n",
       " 0.7871794871794872,\n",
       " 0.7884615384615384,\n",
       " 0.8019230769230768,\n",
       " 0.8256410256410257,\n",
       " 0.7871794871794873,\n",
       " 0.7948717948717948,\n",
       " 0.7955128205128206,\n",
       " 0.7942307692307692,\n",
       " 0.8038461538461539,\n",
       " 0.7948717948717949,\n",
       " 0.8134615384615385,\n",
       " 0.7814102564102563,\n",
       " 0.8025641025641026]"
      ]
     },
     "execution_count": 31,
     "metadata": {},
     "output_type": "execute_result"
    }
   ],
   "source": [
    "results_logistic = []\n",
    "logistic = LogisticRegression(C=2.0, max_iter=500, solver='lbfgs', tol=0.0001)\n",
    "for i in range(30):\n",
    "    kfold = KFold(n_splits=10, shuffle=True, random_state=i)\n",
    "    scores = cross_val_score(logistic, X_df, y_df, cv=kfold)\n",
    "    results_logistic.append(scores.mean())\n",
    "results_logistic"
   ]
  },
  {
   "cell_type": "markdown",
   "id": "7071f6ae",
   "metadata": {},
   "source": [
    "## 8. Support Vector Machines (SVM)"
   ]
  },
  {
   "cell_type": "markdown",
   "id": "626a9da7",
   "metadata": {},
   "source": [
    "Next we will test the SVM classification algorithm."
   ]
  },
  {
   "cell_type": "code",
   "execution_count": 32,
   "id": "e3b446d0",
   "metadata": {},
   "outputs": [],
   "source": [
    "with open('forest_fires.pkl', 'rb') as f:\n",
    "    X_df, y_df = pickle.load(f)"
   ]
  },
  {
   "cell_type": "markdown",
   "id": "8966ba3a",
   "metadata": {},
   "source": [
    "We first use grid search to tune the parameters."
   ]
  },
  {
   "cell_type": "code",
   "execution_count": 33,
   "id": "a98a8b4b",
   "metadata": {},
   "outputs": [
    {
     "data": {
      "text/plain": [
       "{'C': 2.0, 'kernel': 'linear', 'tol': 0.001}"
      ]
     },
     "execution_count": 33,
     "metadata": {},
     "output_type": "execute_result"
    }
   ],
   "source": [
    "parameters = {'tol': [0.001, 0.0001, 0.00001],\n",
    "             'C': [1.0, 1.5, 2.0],\n",
    "             'kernel': ['rbf', 'linear', 'poly', 'sigmoid']}\n",
    "grid_search = GridSearchCV(estimator=SVC(), param_grid=parameters)\n",
    "grid_search.fit(X_df, y_df)\n",
    "best_parameters = grid_search.best_params_\n",
    "best_parameters"
   ]
  },
  {
   "cell_type": "markdown",
   "id": "1ab80c71",
   "metadata": {},
   "source": [
    "Then we use cross validation to determine the accuracies."
   ]
  },
  {
   "cell_type": "code",
   "execution_count": 34,
   "id": "8a6fa9d5",
   "metadata": {},
   "outputs": [
    {
     "data": {
      "text/plain": [
       "[0.801923076923077,\n",
       " 0.801923076923077,\n",
       " 0.828846153846154,\n",
       " 0.817948717948718,\n",
       " 0.808974358974359,\n",
       " 0.8115384615384615,\n",
       " 0.8282051282051283,\n",
       " 0.8525641025641025,\n",
       " 0.7865384615384615,\n",
       " 0.8038461538461539,\n",
       " 0.8371794871794872,\n",
       " 0.7891025641025642,\n",
       " 0.7967948717948719,\n",
       " 0.8262820512820515,\n",
       " 0.785897435897436,\n",
       " 0.8025641025641026,\n",
       " 0.7948717948717949,\n",
       " 0.8032051282051281,\n",
       " 0.8448717948717949,\n",
       " 0.7846153846153846,\n",
       " 0.8346153846153846,\n",
       " 0.8365384615384615,\n",
       " 0.7615384615384616,\n",
       " 0.7871794871794873,\n",
       " 0.8102564102564103,\n",
       " 0.8371794871794872,\n",
       " 0.8025641025641026,\n",
       " 0.8211538461538461,\n",
       " 0.8134615384615385,\n",
       " 0.8102564102564103]"
      ]
     },
     "execution_count": 34,
     "metadata": {},
     "output_type": "execute_result"
    }
   ],
   "source": [
    "results_svm = []\n",
    "svm = SVC(C=2.0, kernel='linear', tol=0.001)\n",
    "for i in range(30):\n",
    "    kfold = KFold(n_splits=10, shuffle=True, random_state=i)\n",
    "    scores = cross_val_score(svm, X_df, y_df, cv=kfold)\n",
    "    results_svm.append(scores.mean())\n",
    "results_svm"
   ]
  },
  {
   "cell_type": "markdown",
   "id": "8ae98aa5",
   "metadata": {},
   "source": [
    "## 9. Neural Network"
   ]
  },
  {
   "cell_type": "markdown",
   "id": "6251254b",
   "metadata": {},
   "source": [
    "The final algorithm we are going to test is the multi-layer perceptron classifier."
   ]
  },
  {
   "cell_type": "code",
   "execution_count": 35,
   "id": "3a1735f9",
   "metadata": {},
   "outputs": [],
   "source": [
    "with open('forest_fires.pkl', 'rb') as f:\n",
    "    X_df, y_df = pickle.load(f)"
   ]
  },
  {
   "cell_type": "markdown",
   "id": "a52defe3",
   "metadata": {},
   "source": [
    "We use grid search to find the best parameters."
   ]
  },
  {
   "cell_type": "code",
   "execution_count": 43,
   "id": "c09a0d06",
   "metadata": {},
   "outputs": [
    {
     "data": {
      "text/plain": [
       "{'activation': 'tanh',\n",
       " 'batch_size': 10,\n",
       " 'hidden_layer_sizes': [100],\n",
       " 'max_iter': 2000,\n",
       " 'solver': 'adam',\n",
       " 'tol': 0.001}"
      ]
     },
     "execution_count": 43,
     "metadata": {},
     "output_type": "execute_result"
    }
   ],
   "source": [
    "parameters = {'activation': ['relu', 'logistic', 'tanh'],\n",
    "             'solver': ['adam', 'sgd'],\n",
    "             'batch_size': [10, 56],\n",
    "             'hidden_layer_sizes': [[100], [3, 3]],\n",
    "             'max_iter': [2000],\n",
    "             'tol': [0.001]}\n",
    "grid_search = GridSearchCV(estimator=MLPClassifier(), param_grid=parameters)\n",
    "grid_search.fit(X_df, y_df)\n",
    "best_parameters = grid_search.best_params_\n",
    "best_parameters"
   ]
  },
  {
   "cell_type": "markdown",
   "id": "795df352",
   "metadata": {},
   "source": [
    "Then we use cross validation to calculate the accuracies."
   ]
  },
  {
   "cell_type": "code",
   "execution_count": 44,
   "id": "b7da81a2",
   "metadata": {},
   "outputs": [
    {
     "data": {
      "text/plain": [
       "[0.860897435897436,\n",
       " 0.8435897435897436,\n",
       " 0.8788461538461538,\n",
       " 0.8532051282051281,\n",
       " 0.8673076923076923,\n",
       " 0.8429487179487181,\n",
       " 0.8525641025641025,\n",
       " 0.8685897435897434,\n",
       " 0.8538461538461538,\n",
       " 0.8442307692307691,\n",
       " 0.8775641025641026,\n",
       " 0.8698717948717949,\n",
       " 0.8371794871794871,\n",
       " 0.85,\n",
       " 0.8429487179487181,\n",
       " 0.8602564102564102,\n",
       " 0.8775641025641026,\n",
       " 0.8679487179487181,\n",
       " 0.8615384615384615,\n",
       " 0.8429487179487181,\n",
       " 0.8762820512820513,\n",
       " 0.8782051282051281,\n",
       " 0.8282051282051281,\n",
       " 0.8525641025641025,\n",
       " 0.8512820512820513,\n",
       " 0.8878205128205128,\n",
       " 0.8519230769230768,\n",
       " 0.8621794871794872,\n",
       " 0.8628205128205128,\n",
       " 0.851923076923077]"
      ]
     },
     "execution_count": 44,
     "metadata": {},
     "output_type": "execute_result"
    }
   ],
   "source": [
    "results_neural = []\n",
    "neural = MLPClassifier(activation='tanh', batch_size=10, hidden_layer_sizes=[100], max_iter=2000, solver='adam', tol=0.001)\n",
    "for i in range(30):\n",
    "    kfold = KFold(n_splits=10, shuffle=True, random_state=i)\n",
    "    scores = cross_val_score(neural, X_df, y_df, cv=kfold)\n",
    "    results_neural.append(scores.mean())\n",
    "results_neural"
   ]
  },
  {
   "cell_type": "markdown",
   "id": "ba6f344a",
   "metadata": {},
   "source": [
    "## 10. Comparing the Algorithms"
   ]
  },
  {
   "cell_type": "markdown",
   "id": "6e7dd9f2",
   "metadata": {},
   "source": [
    "Now that we have the accuracies for different algorithms, we can compare them and see which one performed best."
   ]
  },
  {
   "cell_type": "code",
   "execution_count": 45,
   "id": "61b5b5ec",
   "metadata": {},
   "outputs": [],
   "source": [
    "results_bayes = [0.8282051282051283,\n",
    " 0.8192307692307692,\n",
    " 0.8211538461538461,\n",
    " 0.8198717948717948,\n",
    " 0.8173076923076923,\n",
    " 0.8256410256410256,\n",
    " 0.8275641025641025,\n",
    " 0.8121794871794872,\n",
    " 0.8128205128205128,\n",
    " 0.8192307692307693,\n",
    " 0.8198717948717948,\n",
    " 0.8294871794871795,\n",
    " 0.7948717948717949,\n",
    " 0.8102564102564103,\n",
    " 0.8352564102564102,\n",
    " 0.8185897435897436,\n",
    " 0.8205128205128205,\n",
    " 0.8192307692307693,\n",
    " 0.8198717948717948,\n",
    " 0.8185897435897436,\n",
    " 0.826923076923077,\n",
    " 0.8211538461538461,\n",
    " 0.817948717948718,\n",
    " 0.8185897435897435,\n",
    " 0.8185897435897436,\n",
    " 0.8294871794871794,\n",
    " 0.8192307692307692,\n",
    " 0.8282051282051281,\n",
    " 0.8141025641025641,\n",
    " 0.826923076923077]\n",
    "results_tree = [0.8544871794871793,\n",
    " 0.8352564102564102,\n",
    " 0.8371794871794872,\n",
    " 0.8205128205128205,\n",
    " 0.8012820512820513,\n",
    " 0.8339743589743589,\n",
    " 0.826923076923077,\n",
    " 0.8371794871794872,\n",
    " 0.8461538461538461,\n",
    " 0.8519230769230768,\n",
    " 0.8596153846153847,\n",
    " 0.8185897435897436,\n",
    " 0.8108974358974359,\n",
    " 0.8596153846153847,\n",
    " 0.8115384615384617,\n",
    " 0.8358974358974359,\n",
    " 0.7942307692307692,\n",
    " 0.8769230769230768,\n",
    " 0.8371794871794872,\n",
    " 0.8339743589743589,\n",
    " 0.8423076923076923,\n",
    " 0.8346153846153846,\n",
    " 0.8435897435897436,\n",
    " 0.8685897435897436,\n",
    " 0.8192307692307693,\n",
    " 0.8384615384615385,\n",
    " 0.8192307692307693,\n",
    " 0.8301282051282051,\n",
    " 0.8358974358974359,\n",
    " 0.8442307692307693]\n",
    "results_forest = [0.8602564102564102,\n",
    " 0.8429487179487178,\n",
    " 0.8442307692307691,\n",
    " 0.8288461538461538,\n",
    " 0.8506410256410257,\n",
    " 0.8769230769230768,\n",
    " 0.8519230769230768,\n",
    " 0.8294871794871794,\n",
    " 0.8211538461538461,\n",
    " 0.8769230769230768,\n",
    " 0.8602564102564102,\n",
    " 0.8205128205128206,\n",
    " 0.8448717948717949,\n",
    " 0.8666666666666666,\n",
    " 0.8512820512820511,\n",
    " 0.8358974358974359,\n",
    " 0.8365384615384617,\n",
    " 0.8679487179487179,\n",
    " 0.8532051282051283,\n",
    " 0.8173076923076923,\n",
    " 0.8519230769230768,\n",
    " 0.8358974358974358,\n",
    " 0.8602564102564102,\n",
    " 0.8429487179487181,\n",
    " 0.8358974358974359,\n",
    " 0.8467948717948717,\n",
    " 0.851923076923077,\n",
    " 0.8621794871794872,\n",
    " 0.8448717948717949,\n",
    " 0.8525641025641025]\n",
    "results_knn = [0.7371794871794871,\n",
    " 0.7185897435897436,\n",
    " 0.7217948717948718,\n",
    " 0.7288461538461538,\n",
    " 0.7185897435897435,\n",
    " 0.7044871794871794,\n",
    " 0.7615384615384615,\n",
    " 0.7288461538461538,\n",
    " 0.6794871794871795,\n",
    " 0.6974358974358974,\n",
    " 0.7237179487179487,\n",
    " 0.7147435897435896,\n",
    " 0.7384615384615385,\n",
    " 0.7025641025641025,\n",
    " 0.717948717948718,\n",
    " 0.7288461538461539,\n",
    " 0.7198717948717949,\n",
    " 0.7371794871794871,\n",
    " 0.7230769230769231,\n",
    " 0.7198717948717948,\n",
    " 0.7205128205128205,\n",
    " 0.737820512820513,\n",
    " 0.7044871794871794,\n",
    " 0.7282051282051283,\n",
    " 0.7192307692307692,\n",
    " 0.7064102564102563,\n",
    " 0.7025641025641026,\n",
    " 0.7147435897435896,\n",
    " 0.7153846153846153,\n",
    " 0.7282051282051281]\n",
    "results_logistic = [0.8032051282051281,\n",
    " 0.7846153846153847,\n",
    " 0.7724358974358975,\n",
    " 0.7852564102564104,\n",
    " 0.808974358974359,\n",
    " 0.7955128205128206,\n",
    " 0.7858974358974358,\n",
    " 0.8108974358974359,\n",
    " 0.801923076923077,\n",
    " 0.7961538461538462,\n",
    " 0.8044871794871794,\n",
    " 0.7878205128205129,\n",
    " 0.7974358974358974,\n",
    " 0.7846153846153846,\n",
    " 0.7871794871794872,\n",
    " 0.7871794871794872,\n",
    " 0.8032051282051281,\n",
    " 0.7871794871794872,\n",
    " 0.7884615384615384,\n",
    " 0.8019230769230768,\n",
    " 0.8256410256410257,\n",
    " 0.7871794871794873,\n",
    " 0.7948717948717948,\n",
    " 0.7955128205128206,\n",
    " 0.7942307692307692,\n",
    " 0.8038461538461539,\n",
    " 0.7948717948717949,\n",
    " 0.8134615384615385,\n",
    " 0.7814102564102563,\n",
    " 0.8025641025641026]\n",
    "results_svm = [0.801923076923077,\n",
    " 0.801923076923077,\n",
    " 0.828846153846154,\n",
    " 0.817948717948718,\n",
    " 0.808974358974359,\n",
    " 0.8115384615384615,\n",
    " 0.8282051282051283,\n",
    " 0.8525641025641025,\n",
    " 0.7865384615384615,\n",
    " 0.8038461538461539,\n",
    " 0.8371794871794872,\n",
    " 0.7891025641025642,\n",
    " 0.7967948717948719,\n",
    " 0.8262820512820515,\n",
    " 0.785897435897436,\n",
    " 0.8025641025641026,\n",
    " 0.7948717948717949,\n",
    " 0.8032051282051281,\n",
    " 0.8448717948717949,\n",
    " 0.7846153846153846,\n",
    " 0.8346153846153846,\n",
    " 0.8365384615384615,\n",
    " 0.7615384615384616,\n",
    " 0.7871794871794873,\n",
    " 0.8102564102564103,\n",
    " 0.8371794871794872,\n",
    " 0.8025641025641026,\n",
    " 0.8211538461538461,\n",
    " 0.8134615384615385,\n",
    " 0.8102564102564103]\n",
    "results_neural = [0.860897435897436,\n",
    " 0.8435897435897436,\n",
    " 0.8788461538461538,\n",
    " 0.8532051282051281,\n",
    " 0.8673076923076923,\n",
    " 0.8429487179487181,\n",
    " 0.8525641025641025,\n",
    " 0.8685897435897434,\n",
    " 0.8538461538461538,\n",
    " 0.8442307692307691,\n",
    " 0.8775641025641026,\n",
    " 0.8698717948717949,\n",
    " 0.8371794871794871,\n",
    " 0.85,\n",
    " 0.8429487179487181,\n",
    " 0.8602564102564102,\n",
    " 0.8775641025641026,\n",
    " 0.8679487179487181,\n",
    " 0.8615384615384615,\n",
    " 0.8429487179487181,\n",
    " 0.8762820512820513,\n",
    " 0.8782051282051281,\n",
    " 0.8282051282051281,\n",
    " 0.8525641025641025,\n",
    " 0.8512820512820513,\n",
    " 0.8878205128205128,\n",
    " 0.8519230769230768,\n",
    " 0.8621794871794872,\n",
    " 0.8628205128205128,\n",
    " 0.851923076923077]"
   ]
  },
  {
   "cell_type": "code",
   "execution_count": 46,
   "id": "f0ac158d",
   "metadata": {},
   "outputs": [
    {
     "data": {
      "text/html": [
       "<div>\n",
       "<style scoped>\n",
       "    .dataframe tbody tr th:only-of-type {\n",
       "        vertical-align: middle;\n",
       "    }\n",
       "\n",
       "    .dataframe tbody tr th {\n",
       "        vertical-align: top;\n",
       "    }\n",
       "\n",
       "    .dataframe thead th {\n",
       "        text-align: right;\n",
       "    }\n",
       "</style>\n",
       "<table border=\"1\" class=\"dataframe\">\n",
       "  <thead>\n",
       "    <tr style=\"text-align: right;\">\n",
       "      <th></th>\n",
       "      <th>Bayes</th>\n",
       "      <th>Tree</th>\n",
       "      <th>Forest</th>\n",
       "      <th>KNN</th>\n",
       "      <th>Logistic</th>\n",
       "      <th>SVM</th>\n",
       "      <th>Neural</th>\n",
       "    </tr>\n",
       "  </thead>\n",
       "  <tbody>\n",
       "    <tr>\n",
       "      <th>count</th>\n",
       "      <td>30.000000</td>\n",
       "      <td>30.000000</td>\n",
       "      <td>30.000000</td>\n",
       "      <td>30.000000</td>\n",
       "      <td>30.000000</td>\n",
       "      <td>30.000000</td>\n",
       "      <td>30.000000</td>\n",
       "    </tr>\n",
       "    <tr>\n",
       "      <th>mean</th>\n",
       "      <td>0.820363</td>\n",
       "      <td>0.835321</td>\n",
       "      <td>0.847436</td>\n",
       "      <td>0.720021</td>\n",
       "      <td>0.795598</td>\n",
       "      <td>0.810748</td>\n",
       "      <td>0.858568</td>\n",
       "    </tr>\n",
       "    <tr>\n",
       "      <th>std</th>\n",
       "      <td>0.007490</td>\n",
       "      <td>0.018684</td>\n",
       "      <td>0.015490</td>\n",
       "      <td>0.015403</td>\n",
       "      <td>0.011153</td>\n",
       "      <td>0.020979</td>\n",
       "      <td>0.014393</td>\n",
       "    </tr>\n",
       "    <tr>\n",
       "      <th>min</th>\n",
       "      <td>0.794872</td>\n",
       "      <td>0.794231</td>\n",
       "      <td>0.817308</td>\n",
       "      <td>0.679487</td>\n",
       "      <td>0.772436</td>\n",
       "      <td>0.761538</td>\n",
       "      <td>0.828205</td>\n",
       "    </tr>\n",
       "    <tr>\n",
       "      <th>25%</th>\n",
       "      <td>0.818590</td>\n",
       "      <td>0.822115</td>\n",
       "      <td>0.836058</td>\n",
       "      <td>0.714744</td>\n",
       "      <td>0.787179</td>\n",
       "      <td>0.798077</td>\n",
       "      <td>0.850321</td>\n",
       "    </tr>\n",
       "    <tr>\n",
       "      <th>50%</th>\n",
       "      <td>0.819551</td>\n",
       "      <td>0.835897</td>\n",
       "      <td>0.848718</td>\n",
       "      <td>0.719872</td>\n",
       "      <td>0.795192</td>\n",
       "      <td>0.809615</td>\n",
       "      <td>0.857051</td>\n",
       "    </tr>\n",
       "    <tr>\n",
       "      <th>75%</th>\n",
       "      <td>0.826603</td>\n",
       "      <td>0.844071</td>\n",
       "      <td>0.858494</td>\n",
       "      <td>0.728686</td>\n",
       "      <td>0.803045</td>\n",
       "      <td>0.827724</td>\n",
       "      <td>0.868429</td>\n",
       "    </tr>\n",
       "    <tr>\n",
       "      <th>max</th>\n",
       "      <td>0.835256</td>\n",
       "      <td>0.876923</td>\n",
       "      <td>0.876923</td>\n",
       "      <td>0.761538</td>\n",
       "      <td>0.825641</td>\n",
       "      <td>0.852564</td>\n",
       "      <td>0.887821</td>\n",
       "    </tr>\n",
       "  </tbody>\n",
       "</table>\n",
       "</div>"
      ],
      "text/plain": [
       "           Bayes       Tree     Forest        KNN   Logistic        SVM  \\\n",
       "count  30.000000  30.000000  30.000000  30.000000  30.000000  30.000000   \n",
       "mean    0.820363   0.835321   0.847436   0.720021   0.795598   0.810748   \n",
       "std     0.007490   0.018684   0.015490   0.015403   0.011153   0.020979   \n",
       "min     0.794872   0.794231   0.817308   0.679487   0.772436   0.761538   \n",
       "25%     0.818590   0.822115   0.836058   0.714744   0.787179   0.798077   \n",
       "50%     0.819551   0.835897   0.848718   0.719872   0.795192   0.809615   \n",
       "75%     0.826603   0.844071   0.858494   0.728686   0.803045   0.827724   \n",
       "max     0.835256   0.876923   0.876923   0.761538   0.825641   0.852564   \n",
       "\n",
       "          Neural  \n",
       "count  30.000000  \n",
       "mean    0.858568  \n",
       "std     0.014393  \n",
       "min     0.828205  \n",
       "25%     0.850321  \n",
       "50%     0.857051  \n",
       "75%     0.868429  \n",
       "max     0.887821  "
      ]
     },
     "execution_count": 46,
     "metadata": {},
     "output_type": "execute_result"
    }
   ],
   "source": [
    "results = pd.DataFrame({'Bayes': results_bayes,\n",
    "                        'Tree': results_tree,\n",
    "                        'Forest': results_forest,\n",
    "                        'KNN': results_knn,\n",
    "                        'Logistic': results_logistic,\n",
    "                        'SVM': results_svm,\n",
    "                        'Neural': results_neural})\n",
    "results.describe()"
   ]
  },
  {
   "cell_type": "markdown",
   "id": "408fd60f",
   "metadata": {},
   "source": [
    "Comparing the mean accuracies and their standard deviations, it seems that the neural networks classifier had the best performance. However, before we conclude this, we must verify if the results are statistically distinct from each other."
   ]
  },
  {
   "cell_type": "markdown",
   "id": "10d8a19c",
   "metadata": {},
   "source": [
    "We can do this by using the ANOVA and Tukey tests, but these tests are only meant to compare normaly distributed data. Therefore, we use the Shapiro test to check if the data is normaly distributed (null hypothesis) or not (alternative hypothesis)."
   ]
  },
  {
   "cell_type": "code",
   "execution_count": 47,
   "id": "c8be1326",
   "metadata": {},
   "outputs": [
    {
     "name": "stdout",
     "output_type": "stream",
     "text": [
      "ShapiroResult(statistic=0.8957853317260742, pvalue=0.006634310353547335)\n",
      "ShapiroResult(statistic=0.9803633689880371, pvalue=0.8351332545280457)\n",
      "ShapiroResult(statistic=0.9760259389877319, pvalue=0.7129378914833069)\n",
      "ShapiroResult(statistic=0.9599725604057312, pvalue=0.30927520990371704)\n",
      "ShapiroResult(statistic=0.963365912437439, pvalue=0.3764815628528595)\n",
      "ShapiroResult(statistic=0.9777230620384216, pvalue=0.7623244524002075)\n",
      "ShapiroResult(statistic=0.9733095765113831, pvalue=0.6330934166908264)\n"
     ]
    }
   ],
   "source": [
    "print(shapiro(results_bayes))\n",
    "print(shapiro(results_tree))\n",
    "print(shapiro(results_forest))\n",
    "print(shapiro(results_knn))\n",
    "print(shapiro(results_logistic))\n",
    "print(shapiro(results_svm))\n",
    "print(shapiro(results_neural))"
   ]
  },
  {
   "cell_type": "markdown",
   "id": "b9fe317b",
   "metadata": {},
   "source": [
    "We obtain that only the results for the naive Bayes classifier are not normally distributed, since they are the only ones with p-value below 0.05. Let us plot these results."
   ]
  },
  {
   "cell_type": "code",
   "execution_count": 50,
   "id": "727439db",
   "metadata": {},
   "outputs": [
    {
     "data": {
      "image/png": "[encoded data removed]",
      "text/plain": [
       "<Figure size 360x360 with 1 Axes>"
      ]
     },
     "metadata": {
      "needs_background": "light"
     },
     "output_type": "display_data"
    }
   ],
   "source": [
    "sns.displot(results_bayes, kind='kde');"
   ]
  },
  {
   "cell_type": "markdown",
   "id": "8576b5c4",
   "metadata": {},
   "source": [
    "We can see that the results are still approximately normal, so we will proceed with the ANOVA and Tukey tests."
   ]
  },
  {
   "cell_type": "markdown",
   "id": "02b014d8",
   "metadata": {},
   "source": [
    "The ANOVA test will compare all of the algorithms and determine whether they are statistically the same (null hypothesis) or statistically distinct (alternative hypothesis)."
   ]
  },
  {
   "cell_type": "code",
   "execution_count": 51,
   "id": "6a2757de",
   "metadata": {},
   "outputs": [
    {
     "name": "stdout",
     "output_type": "stream",
     "text": [
      "F_onewayResult(statistic=270.13575116948067, pvalue=6.990546110979192e-94)\n"
     ]
    }
   ],
   "source": [
    "print(f_oneway(results_bayes, results_tree, results_forest, results_knn, results_logistic, results_svm, results_neural))"
   ]
  },
  {
   "cell_type": "markdown",
   "id": "d9f6ae8a",
   "metadata": {},
   "source": [
    "Since the p-value is below 0.05, we conclude that the results are statistically distinct."
   ]
  },
  {
   "cell_type": "markdown",
   "id": "e93fe0c9",
   "metadata": {},
   "source": [
    "Finally, we use the Tukey test to compare each set of results with each other and determine whether they are statistically the same (null hypothesis) or statistically distinct (alternative hypothesis)."
   ]
  },
  {
   "cell_type": "code",
   "execution_count": 52,
   "id": "28fcb6bc",
   "metadata": {},
   "outputs": [
    {
     "data": {
      "text/html": [
       "<div>\n",
       "<style scoped>\n",
       "    .dataframe tbody tr th:only-of-type {\n",
       "        vertical-align: middle;\n",
       "    }\n",
       "\n",
       "    .dataframe tbody tr th {\n",
       "        vertical-align: top;\n",
       "    }\n",
       "\n",
       "    .dataframe thead th {\n",
       "        text-align: right;\n",
       "    }\n",
       "</style>\n",
       "<table border=\"1\" class=\"dataframe\">\n",
       "  <thead>\n",
       "    <tr style=\"text-align: right;\">\n",
       "      <th></th>\n",
       "      <th>accuracy</th>\n",
       "      <th>algorithm</th>\n",
       "    </tr>\n",
       "  </thead>\n",
       "  <tbody>\n",
       "    <tr>\n",
       "      <th>0</th>\n",
       "      <td>0.828205</td>\n",
       "      <td>bayes</td>\n",
       "    </tr>\n",
       "    <tr>\n",
       "      <th>1</th>\n",
       "      <td>0.819231</td>\n",
       "      <td>bayes</td>\n",
       "    </tr>\n",
       "    <tr>\n",
       "      <th>2</th>\n",
       "      <td>0.821154</td>\n",
       "      <td>bayes</td>\n",
       "    </tr>\n",
       "    <tr>\n",
       "      <th>3</th>\n",
       "      <td>0.819872</td>\n",
       "      <td>bayes</td>\n",
       "    </tr>\n",
       "    <tr>\n",
       "      <th>4</th>\n",
       "      <td>0.817308</td>\n",
       "      <td>bayes</td>\n",
       "    </tr>\n",
       "    <tr>\n",
       "      <th>...</th>\n",
       "      <td>...</td>\n",
       "      <td>...</td>\n",
       "    </tr>\n",
       "    <tr>\n",
       "      <th>205</th>\n",
       "      <td>0.887821</td>\n",
       "      <td>neural</td>\n",
       "    </tr>\n",
       "    <tr>\n",
       "      <th>206</th>\n",
       "      <td>0.851923</td>\n",
       "      <td>neural</td>\n",
       "    </tr>\n",
       "    <tr>\n",
       "      <th>207</th>\n",
       "      <td>0.862179</td>\n",
       "      <td>neural</td>\n",
       "    </tr>\n",
       "    <tr>\n",
       "      <th>208</th>\n",
       "      <td>0.862821</td>\n",
       "      <td>neural</td>\n",
       "    </tr>\n",
       "    <tr>\n",
       "      <th>209</th>\n",
       "      <td>0.851923</td>\n",
       "      <td>neural</td>\n",
       "    </tr>\n",
       "  </tbody>\n",
       "</table>\n",
       "<p>210 rows × 2 columns</p>\n",
       "</div>"
      ],
      "text/plain": [
       "     accuracy algorithm\n",
       "0    0.828205     bayes\n",
       "1    0.819231     bayes\n",
       "2    0.821154     bayes\n",
       "3    0.819872     bayes\n",
       "4    0.817308     bayes\n",
       "..        ...       ...\n",
       "205  0.887821    neural\n",
       "206  0.851923    neural\n",
       "207  0.862179    neural\n",
       "208  0.862821    neural\n",
       "209  0.851923    neural\n",
       "\n",
       "[210 rows x 2 columns]"
      ]
     },
     "execution_count": 52,
     "metadata": {},
     "output_type": "execute_result"
    }
   ],
   "source": [
    "results_algorithms = {'accuracy': np.concatenate([results_bayes, results_tree, results_forest, results_knn, results_logistic, results_svm, results_neural]),\n",
    "                      'algorithm': ['bayes', 'bayes', 'bayes', 'bayes', 'bayes', 'bayes', 'bayes', 'bayes', 'bayes', 'bayes', 'bayes', 'bayes', 'bayes', 'bayes', 'bayes', 'bayes', 'bayes', 'bayes', 'bayes', 'bayes', 'bayes', 'bayes', 'bayes', 'bayes', 'bayes', 'bayes', 'bayes', 'bayes', 'bayes', 'bayes', \n",
    "                                    'tree', 'tree', 'tree', 'tree', 'tree', 'tree', 'tree', 'tree', 'tree', 'tree', 'tree', 'tree', 'tree', 'tree', 'tree', 'tree', 'tree', 'tree', 'tree', 'tree', 'tree', 'tree', 'tree', 'tree', 'tree', 'tree', 'tree', 'tree', 'tree', 'tree',\n",
    "                                    'forest', 'forest', 'forest', 'forest', 'forest', 'forest', 'forest', 'forest', 'forest', 'forest', 'forest', 'forest', 'forest', 'forest', 'forest', 'forest', 'forest', 'forest', 'forest', 'forest', 'forest', 'forest', 'forest', 'forest', 'forest', 'forest', 'forest', 'forest', 'forest', 'forest', \n",
    "                                    'knn', 'knn', 'knn', 'knn', 'knn', 'knn', 'knn', 'knn', 'knn', 'knn', 'knn', 'knn', 'knn', 'knn', 'knn', 'knn', 'knn', 'knn', 'knn', 'knn', 'knn', 'knn', 'knn', 'knn', 'knn', 'knn', 'knn', 'knn', 'knn', 'knn', \n",
    "                                    'logistic', 'logistic', 'logistic', 'logistic', 'logistic', 'logistic', 'logistic', 'logistic', 'logistic', 'logistic', 'logistic', 'logistic', 'logistic', 'logistic', 'logistic', 'logistic', 'logistic', 'logistic', 'logistic', 'logistic', 'logistic', 'logistic', 'logistic', 'logistic', 'logistic', 'logistic', 'logistic', 'logistic', 'logistic', 'logistic', \n",
    "                                    'svm', 'svm', 'svm', 'svm', 'svm', 'svm', 'svm', 'svm', 'svm', 'svm', 'svm', 'svm', 'svm', 'svm', 'svm', 'svm', 'svm', 'svm', 'svm', 'svm', 'svm', 'svm', 'svm', 'svm', 'svm', 'svm', 'svm', 'svm', 'svm', 'svm', \n",
    "                                    'neural', 'neural', 'neural', 'neural', 'neural', 'neural', 'neural', 'neural', 'neural', 'neural', 'neural', 'neural', 'neural', 'neural', 'neural', 'neural', 'neural', 'neural', 'neural', 'neural', 'neural', 'neural', 'neural', 'neural', 'neural', 'neural', 'neural', 'neural', 'neural', 'neural']}\n",
    "results_df = pd.DataFrame(results_algorithms)\n",
    "results_df"
   ]
  },
  {
   "cell_type": "code",
   "execution_count": 53,
   "id": "94ed039e",
   "metadata": {},
   "outputs": [
    {
     "name": "stdout",
     "output_type": "stream",
     "text": [
      "  Multiple Comparison of Means - Tukey HSD, FWER=0.05   \n",
      "========================================================\n",
      " group1   group2  meandiff p-adj   lower   upper  reject\n",
      "--------------------------------------------------------\n",
      "   bayes   forest   0.0271    0.0  0.0153  0.0389   True\n",
      "   bayes      knn  -0.1003    0.0 -0.1122 -0.0885   True\n",
      "   bayes logistic  -0.0248    0.0 -0.0366 -0.0129   True\n",
      "   bayes   neural   0.0382    0.0  0.0264    0.05   True\n",
      "   bayes      svm  -0.0096 0.1946 -0.0214  0.0022  False\n",
      "   bayes     tree    0.015  0.004  0.0031  0.0268   True\n",
      "  forest      knn  -0.1274    0.0 -0.1392 -0.1156   True\n",
      "  forest logistic  -0.0518    0.0 -0.0637   -0.04   True\n",
      "  forest   neural   0.0111 0.0795 -0.0007   0.023  False\n",
      "  forest      svm  -0.0367    0.0 -0.0485 -0.0249   True\n",
      "  forest     tree  -0.0121 0.0405 -0.0239 -0.0003   True\n",
      "     knn logistic   0.0756    0.0  0.0638  0.0874   True\n",
      "     knn   neural   0.1385    0.0  0.1267  0.1504   True\n",
      "     knn      svm   0.0907    0.0  0.0789  0.1025   True\n",
      "     knn     tree   0.1153    0.0  0.1035  0.1271   True\n",
      "logistic   neural    0.063    0.0  0.0511  0.0748   True\n",
      "logistic      svm   0.0151 0.0034  0.0033   0.027   True\n",
      "logistic     tree   0.0397    0.0  0.0279  0.0515   True\n",
      "  neural      svm  -0.0478    0.0 -0.0596  -0.036   True\n",
      "  neural     tree  -0.0232    0.0 -0.0351 -0.0114   True\n",
      "     svm     tree   0.0246    0.0  0.0128  0.0364   True\n",
      "--------------------------------------------------------\n"
     ]
    }
   ],
   "source": [
    "compare_algorithms = MultiComparison(results_df['accuracy'], results_df['algorithm'])\n",
    "print(compare_algorithms.tukeyhsd())"
   ]
  },
  {
   "cell_type": "markdown",
   "id": "4a16029f",
   "metadata": {},
   "source": [
    "Thus, we obtain that the sets of results for the random forest and neural network classifiers are not statistically distinct from each other. Therefore, since the random forest algorithm is simpler and faster to run, we may choose it as the best suited one for this problem."
   ]
  },
  {
   "cell_type": "code",
   "execution_count": null,
   "id": "3b4fb9ba",
   "metadata": {},
   "outputs": [],
   "source": []
  }
 ],
 "metadata": {
  "kernelspec": {
   "display_name": "Python 3 (ipykernel)",
   "language": "python",
   "name": "python3"
  },
  "language_info": {
   "codemirror_mode": {
    "name": "ipython",
    "version": 3
   },
   "file_extension": ".py",
   "mimetype": "text/x-python",
   "name": "python",
   "nbconvert_exporter": "python",
   "pygments_lexer": "ipython3",
   "version": "3.8.13"
  }
 },
 "nbformat": 4,
 "nbformat_minor": 5
}
